{
 "cells": [
  {
   "cell_type": "code",
   "execution_count": 1,
   "metadata": {},
   "outputs": [],
   "source": [
    "import mysql.connector\n",
    "import os\n",
    "from pyspark.sql import SparkSession\n",
    "from pyspark.sql.functions import *"
   ]
  },
  {
   "cell_type": "code",
   "execution_count": 2,
   "metadata": {},
   "outputs": [],
   "source": [
    "os.environ[\"JAVA_HOME\"] = \"/opt/homebrew/opt/openjdk@11\"\n",
    "os.environ[\"SPARK_HOME\"] = \"/opt/homebrew/opt/apache-spark/libexec\""
   ]
  },
  {
   "cell_type": "code",
   "execution_count": 3,
   "metadata": {},
   "outputs": [
    {
     "name": "stderr",
     "output_type": "stream",
     "text": [
      "25/05/02 13:04:34 WARN NativeCodeLoader: Unable to load native-hadoop library for your platform... using builtin-java classes where applicable\n",
      "Setting default log level to \"WARN\".\n",
      "To adjust logging level use sc.setLogLevel(newLevel). For SparkR, use setLogLevel(newLevel).\n"
     ]
    }
   ],
   "source": [
    "spark = SparkSession.builder \\\n",
    "    .master(\"local[*]\") \\\n",
    "    .appName(\"NotebookTest\") \\\n",
    "    .config(\"spark.jars\", \"/Users/diego.mosquera/Downloads/mysql-connector-j-9.3.0/mysql-connector-j-9.3.0.jar\") \\\n",
    "    .getOrCreate()"
   ]
  },
  {
   "cell_type": "code",
   "execution_count": 4,
   "metadata": {},
   "outputs": [
    {
     "name": "stderr",
     "output_type": "stream",
     "text": [
      "                                                                                \r"
     ]
    },
    {
     "name": "stdout",
     "output_type": "stream",
     "text": [
      "+---------------+---------------+---------+--------------------+-------------+-----------+--------------------+--------------------+--------------------+-------------+-------+---------+------------+----+-----------------+---------------------+---------+-------------+-----------+---------------+-------------------+-----------------------+-----------------------+---------------+-------------+-------------------+-----------------+----------------+--------------------+----------+--------------------+----------------------+------------------+--------------------------+--------------------+-------------------+--------------+-----------------------+-------------------------+-----------+------------------+--------------------------------------+--------------+----------------+--------------------+-----------+---------------+------------------------------------+----------------------------------------+----------------------------------+------------------------------------+-----------------+-------------+------------------+----------------------+-----------------------+--------------------------------------+----------------------------------+----------------------------------------+--------------------------------------------+-----------------------------------+-------------------+---------------------+--------------------+--------------------+--------------------+\n",
      "|Incident Number|Exposure Number|       ID|             Address|Incident Date|Call Number|          Alarm DtTm|        Arrival DtTm|          Close DtTm|         City|zipcode|Battalion|Station Area| Box|Suppression Units|Suppression Personnel|EMS Units|EMS Personnel|Other Units|Other Personnel|First Unit On Scene|Estimated Property Loss|Estimated Contents Loss|Fire Fatalities|Fire Injuries|Civilian Fatalities|Civilian Injuries|Number of Alarms|   Primary Situation|Mutual Aid|Action Taken Primary|Action Taken Secondary|Action Taken Other|Detector Alerted Occupants|        Property Use|Area of Fire Origin|Ignition Cause|Ignition Factor Primary|Ignition Factor Secondary|Heat Source|Item First Ignited|Human Factors Associated with Ignition|Structure Type|Structure Status|Floor of Fire Origin|Fire Spread|No Flame Spread|Number of floors with minimum damage|Number of floors with significant damage|Number of floors with heavy damage|Number of floors with extreme damage|Detectors Present|Detector Type|Detector Operation|Detector Effectiveness|Detector Failure Reason|Automatic Extinguishing System Present|Automatic Extinguishing Sytem Type|Automatic Extinguishing Sytem Perfomance|Automatic Extinguishing Sytem Failure Reason|Number of Sprinkler Heads Operating|Supervisor District|neighborhood_district|               point|          data_as_of|      data_loaded_at|\n",
      "+---------------+---------------+---------+--------------------+-------------+-----------+--------------------+--------------------+--------------------+-------------+-------+---------+------------+----+-----------------+---------------------+---------+-------------+-----------+---------------+-------------------+-----------------------+-----------------------+---------------+-------------+-------------------+-----------------+----------------+--------------------+----------+--------------------+----------------------+------------------+--------------------------+--------------------+-------------------+--------------+-----------------------+-------------------------+-----------+------------------+--------------------------------------+--------------+----------------+--------------------+-----------+---------------+------------------------------------+----------------------------------------+----------------------------------+------------------------------------+-----------------+-------------+------------------+----------------------+-----------------------+--------------------------------------+----------------------------------+----------------------------------------+--------------------------------------------+-----------------------------------+-------------------+---------------------+--------------------+--------------------+--------------------+\n",
      "|       15063164|              0|150631640|   61 CONCORD STREET|   2015/06/14|  151652069|2015/06/14 03:41:...|2015/06/14 03:45:...|2015/06/14 03:55:...|San Francisco|  94112|      B09|          43|6221|                1|                    4|        0|            0|          0|              0|               NULL|                   NULL|                   NULL|              0|            0|                  0|                0|               1|400 Hazardous con...|    N None|      86 Investigate|                  NULL|              NULL|                      NULL|400 Residential, ...|               NULL|          NULL|                   NULL|                     NULL|       NULL|              NULL|                                  NULL|          NULL|            NULL|                NULL|       NULL|             NA|                                NULL|                                    NULL|                              NULL|                                NULL|             NULL|         NULL|              NULL|                  NULL|                   NULL|                                  NULL|                              NULL|                                    NULL|                                        NULL|                               NULL|                 11|            Excelsior|POINT (-122.44276...|2015/06/14 03:55:...|2025/04/29 02:17:...|\n",
      "|       15063172|              0|150631720|HYDE ST/ELLIS STREET|   2015/06/14|  151652108|2015/06/14 03:58:...|2015/06/14 04:01:...|2015/06/14 04:02:...|San Francisco|  94109|      B02|          03|1555|                2|                    9|        0|            0|          0|              0|               NULL|                   NULL|                   NULL|              0|            0|                  0|                0|               1|700 False alarm o...|    N None|80 Information, i...|                  NULL|              NULL|                      NULL|            NNN None|               NULL|          NULL|                   NULL|                     NULL|       NULL|              NULL|                                  NULL|          NULL|            NULL|                NULL|       NULL|             NA|                                NULL|                                    NULL|                              NULL|                                NULL|             NULL|         NULL|              NULL|                  NULL|                   NULL|                                  NULL|                              NULL|                                    NULL|                                        NULL|                               NULL|                  5|           Tenderloin|POINT (-122.41607...|2015/06/14 04:02:...|2025/04/29 02:17:...|\n",
      "|       15063173|              0|150631730|      425 1ST STREET|   2015/06/14|  151652113|2015/06/14 03:59:...|2015/06/14 04:04:...|2015/06/14 04:13:...|San Francisco|  94105|      B03|          35|2136|                3|                   10|        0|            0|          0|              0|               NULL|                   NULL|                   NULL|              0|            0|                  0|                0|               1|745 Alarm system ...|    N None|      86 Investigate|                  NULL|              NULL|                      NULL|400 Residential, ...|               NULL|          NULL|                   NULL|                     NULL|       NULL|              NULL|                                  NULL|          NULL|            NULL|                NULL|       NULL|             NA|                                NULL|                                    NULL|                              NULL|                                NULL|             NULL|         NULL|              NULL|                  NULL|                   NULL|                                  NULL|                              NULL|                                    NULL|                                        NULL|                               NULL|                  6| Financial Distric...|POINT (-122.39267...|2015/06/14 04:13:...|2025/04/29 02:17:...|\n",
      "|       15063187|              0|150631870|           924 MASON|   2015/06/14|  151652227|2015/06/14 04:26:...|2015/06/14 04:39:...|2015/06/14 04:48:...|     Presidio|  94129|      B99|          51|4613|                4|                   14|        0|            0|          0|              0|               NULL|                   NULL|                   NULL|              0|            0|                  0|                0|               1|700 False alarm o...|    N None|63 Restore fire a...|                  NULL|              NULL|                      NULL|  549 Specialty shop|               NULL|          NULL|                   NULL|                     NULL|       NULL|              NULL|                                  NULL|          NULL|            NULL|                NULL|       NULL|             NA|                                NULL|                                    NULL|                              NULL|                                NULL|             NULL|         NULL|              NULL|                  NULL|                   NULL|                                  NULL|                              NULL|                                    NULL|                                        NULL|                               NULL|                  2|             Presidio|POINT (-122.46791...|2015/06/14 04:48:...|2025/04/29 02:17:...|\n",
      "|       15063194|              0|150631940|  1049 HOWARD STREET|   2015/06/14|  151652321|2015/06/14 04:56:...|2015/06/14 05:00:...|2015/06/14 05:09:...|San Francisco|  94103|      B03|          01|2314|                3|                   10|        0|            0|          0|              0|               NULL|                   NULL|                   NULL|              0|            0|                  0|                0|               1|735 Alarm system ...|    N None|      86 Investigate|                  NULL|              NULL|                      NULL|439 Boarding/room...|               NULL|          NULL|                   NULL|                     NULL|       NULL|              NULL|                                  NULL|          NULL|            NULL|                NULL|       NULL|             NA|                                NULL|                                    NULL|                              NULL|                                NULL|             NULL|         NULL|              NULL|                  NULL|                   NULL|                                  NULL|                              NULL|                                    NULL|                                        NULL|                               NULL|                  6|      South of Market|POINT (-122.40833...|2015/06/14 05:09:...|2025/04/29 02:17:...|\n",
      "|       15063198|              0|150631980|     55 BROAD STREET|   2015/06/14|  151652382|2015/06/14 05:12:...|2015/06/14 05:17:...|2015/06/14 05:24:...|San Francisco|  94112|      B09|          33|8371|                3|                   11|        0|            0|          0|              0|               NULL|                   NULL|                   NULL|              0|            0|                  0|                0|               1|745 Alarm system ...|    N None|      86 Investigate|                  NULL|              NULL|                      NULL|131 Church, mosqu...|               NULL|          NULL|                   NULL|                     NULL|       NULL|              NULL|                                  NULL|          NULL|            NULL|                NULL|       NULL|             NA|                                NULL|                                    NULL|                              NULL|                                NULL|             NULL|         NULL|              NULL|                  NULL|                   NULL|                                  NULL|                              NULL|                                    NULL|                                        NULL|                               NULL|                 11| Oceanview/Merced/...|POINT (-122.45487...|2015/06/14 05:24:...|2025/04/29 02:17:...|\n",
      "|       15063199|              0|150631990|19TH AV/EUCALYPTU...|   2015/06/14|  151652393|2015/06/14 05:14:...|2015/06/14 05:25:...|2015/06/14 05:42:...|San Francisco|  94132|      B08|          19|8731|                1|                    4|        1|            2|          0|              0|               NULL|                   NULL|                   NULL|              0|            0|                  0|                0|               1|324 Motor vehicle...|    N None|31 Provide first ...|                  NULL|              NULL|                      NULL|962 Residential s...|               NULL|          NULL|                   NULL|                     NULL|       NULL|              NULL|                                  NULL|          NULL|            NULL|                NULL|       NULL|             NA|                                NULL|                                    NULL|                              NULL|                                NULL|             NULL|         NULL|              NULL|                  NULL|                   NULL|                                  NULL|                              NULL|                                    NULL|                                        NULL|                               NULL|                  7|            Lakeshore|POINT (-122.47485...|2015/06/14 05:42:...|2025/04/29 02:17:...|\n",
      "|       15063203|              0|150632030| 2160 OAKDALE AVENUE|   2015/06/14|  151652425|2015/06/14 05:25:...|2015/06/14 05:29:...|2015/06/14 05:30:...|San Francisco|  94124|      B10|          09|6377|                1|                    5|        0|            0|          0|              0|               NULL|                   NULL|                   NULL|              0|            0|                  0|                0|               1|500 Service Call,...|    N None|00 Action taken, ...|                  NULL|              NULL|                      NULL|500 Mercantile, b...|               NULL|          NULL|                   NULL|                     NULL|       NULL|              NULL|                                  NULL|          NULL|            NULL|                NULL|       NULL|             NA|                                NULL|                                    NULL|                              NULL|                                NULL|             NULL|         NULL|              NULL|                  NULL|                   NULL|                                  NULL|                              NULL|                                    NULL|                                        NULL|                               NULL|                 10| Bayview Hunters P...|POINT (-122.40076...|2015/06/14 05:30:...|2025/04/29 02:17:...|\n",
      "|       15063210|              0|150632100|     600 HYDE STREET|   2015/06/14|  151652474|2015/06/14 05:44:...|2015/06/14 05:46:...|2015/06/14 05:46:...|San Francisco|  94109|      B04|          03|1556|                2|                    9|        0|            0|          0|              0|               NULL|                   NULL|                   NULL|              0|            0|                  0|                0|               1|711 Municipal ala...|    N None|      86 Investigate|                  NULL|              NULL|                      NULL|   960 Street, other|               NULL|          NULL|                   NULL|                     NULL|       NULL|              NULL|                                  NULL|          NULL|            NULL|                NULL|       NULL|             NA|                                NULL|                                    NULL|                              NULL|                                NULL|             NULL|         NULL|              NULL|                  NULL|                   NULL|                                  NULL|                              NULL|                                    NULL|                                        NULL|                               NULL|                  3|           Tenderloin|POINT (-122.41638...|2015/06/14 05:46:...|2025/04/29 02:17:...|\n",
      "|       15063217|              0|150632170|GENEVA AV/MISSION...|   2015/06/14|  151652517|2015/06/14 05:57:...|2015/06/14 06:01:...|2015/06/14 06:02:...|San Francisco|  94112|      B09|          43|6175|                2|                    9|        0|            0|          0|              0|               NULL|                   NULL|                   NULL|              0|            0|                  0|                0|               1|711 Municipal ala...|    N None|      86 Investigate|                  NULL|              NULL|                      NULL|519 Food and beve...|               NULL|          NULL|                   NULL|                     NULL|       NULL|              NULL|                                  NULL|          NULL|            NULL|                NULL|       NULL|             NA|                                NULL|                                    NULL|                              NULL|                                NULL|             NULL|         NULL|              NULL|                  NULL|                   NULL|                                  NULL|                              NULL|                                    NULL|                                        NULL|                               NULL|                 11|            Excelsior|POINT (-122.44101...|2015/06/14 06:02:...|2025/04/29 02:17:...|\n",
      "|       15063219|              0|150632190|621-633 NATOMA ST...|   2015/06/14|  151652523|2015/06/14 05:57:...|2015/06/14 06:03:...|2015/06/14 06:05:...|San Francisco|  94103|      B03|          01|2314|                1|                    4|        0|            0|          0|              0|               NULL|                   NULL|                   NULL|              0|            0|                  0|                0|               1|151 Outside rubbi...|    N None|11 Extinguishment...|                  NULL|              NULL|                      NULL|963 Street or roa...|               NULL|          NULL|                   NULL|                     NULL|       NULL|              NULL|                                  NULL|          NULL|            NULL|                NULL|       NULL|             NA|                                NULL|                                    NULL|                              NULL|                                NULL|             NULL|         NULL|              NULL|                  NULL|                   NULL|                                  NULL|                              NULL|                                    NULL|                                        NULL|                               NULL|                  6|      South of Market|POINT (-122.41036...|2015/06/14 06:05:...|2025/04/29 02:17:...|\n",
      "|       15063221|              0|150632210|LARKIN ST/GROVE S...|   2015/06/14|  151652530|2015/06/14 05:59:...|2015/06/14 06:04:...|2015/06/14 06:38:...|San Francisco|  94102|      B02|          36|1646|                1|                    4|        0|            0|          0|              0|               NULL|                   NULL|                   NULL|              0|            0|                  0|                0|               1|151 Outside rubbi...|    N None|      86 Investigate|                  NULL|              NULL|                      NULL|            592 Bank|               NULL|          NULL|                   NULL|                     NULL|       NULL|              NULL|                                  NULL|          NULL|            NULL|                NULL|       NULL|             NA|                                NULL|                                    NULL|                              NULL|                                NULL|             NULL|         NULL|              NULL|                  NULL|                   NULL|                                  NULL|                              NULL|                                    NULL|                                        NULL|                               NULL|                  5|           Tenderloin|POINT (-122.41658...|2015/06/14 06:38:...|2025/04/29 02:17:...|\n",
      "|       15063226|              0|150632260|    1250 EDDY STREET|   2015/06/14|  151652622|2015/06/14 06:27:...|2015/06/14 06:32:...|2015/06/14 06:43:...|San Francisco|  94115|      B02|          05|3366|                3|                   10|        0|            0|          0|              0|               NULL|                   NULL|                   NULL|              0|            0|                  0|                0|               1|700 False alarm o...|    N None|63 Restore fire a...|                  NULL|              NULL|                      NULL|419 1 or 2 family...|               NULL|          NULL|                   NULL|                     NULL|       NULL|              NULL|                                  NULL|          NULL|            NULL|                NULL|       NULL|             NA|                                NULL|                                    NULL|                              NULL|                                NULL|             NULL|         NULL|              NULL|                  NULL|                   NULL|                                  NULL|                              NULL|                                    NULL|                                        NULL|                               NULL|                  5|     Western Addition|POINT (-122.42825...|2015/06/14 06:43:...|2025/04/29 02:17:...|\n",
      "|       15063230|              0|150632300|1990 THE EMBARCAD...|   2015/06/14|  151652643|2015/06/14 06:35:...|2015/06/14 06:41:...|2015/06/14 06:43:...|San Francisco|  94133|      B01|          28|0937|                4|                   15|        0|            0|          0|              0|               NULL|                   NULL|                   NULL|              0|            0|                  0|                0|               1|500 Service Call,...|    N None|60 Systems and se...|                  NULL|              NULL|                      NULL|900 Outside or sp...|               NULL|          NULL|                   NULL|                     NULL|       NULL|              NULL|                                  NULL|          NULL|            NULL|                NULL|       NULL|             NA|                                NULL|                                    NULL|                              NULL|                                NULL|             NULL|         NULL|              NULL|                  NULL|                   NULL|                                  NULL|                              NULL|                                    NULL|                                        NULL|                               NULL|                  3|          North Beach|POINT (-122.40709...|2015/06/14 06:43:...|2025/04/29 02:17:...|\n",
      "|       15063232|              0|150632320|    770 JERROLD AV H|   2015/06/14|  151652666|2015/06/14 06:42:...|2015/06/14 06:47:...|2015/06/14 07:27:...|San Francisco|  94124|      B10|          17|6713|                8|                   28|        1|            2|          1|              2|               NULL|                   NULL|                   NULL|              0|            0|                  0|                0|               1|500 Service Call,...|    N None|00 Action taken, ...|                  NULL|              NULL|                      NULL|500 Mercantile, b...|               NULL|          NULL|                   NULL|                     NULL|       NULL|              NULL|                                  NULL|          NULL|            NULL|                NULL|       NULL|             NA|                                NULL|                                    NULL|                              NULL|                                NULL|             NULL|         NULL|              NULL|                  NULL|                   NULL|                                  NULL|                              NULL|                                    NULL|                                        NULL|                               NULL|                 10| Bayview Hunters P...|POINT (-122.37367...|2015/06/14 07:27:...|2025/04/29 02:17:...|\n",
      "|       15063235|              0|150632350|  750 GONZALEZ DRIVE|   2015/06/14|  151652702|2015/06/14 06:51:...|2015/06/14 06:57:...|2015/06/14 07:16:...|San Francisco|  94132|      B08|          19|8482|                3|                   11|        0|            0|          0|              0|               NULL|                   NULL|                   NULL|              0|            0|                  0|                0|               1|743 Smoke detecto...|    N None|      86 Investigate|                  NULL|              NULL|                      NULL|400 Residential, ...|               NULL|          NULL|                   NULL|                     NULL|       NULL|              NULL|                                  NULL|          NULL|            NULL|                NULL|       NULL|             NA|                                NULL|                                    NULL|                              NULL|                                NULL|             NULL|         NULL|              NULL|                  NULL|                   NULL|                                  NULL|                              NULL|                                    NULL|                                        NULL|                               NULL|                  7|            Lakeshore|POINT (-122.48059...|2015/06/14 07:16:...|2025/04/29 02:17:...|\n",
      "|       15063237|              0|150632370|     405 HILL STREET|   2015/06/14|  151652716|2015/06/14 06:56:...|2015/06/14 07:01:...|2015/06/14 07:10:...|San Francisco|  94114|      B06|          11|5461|                1|                    4|        0|            0|          0|              0|               NULL|                   NULL|                   NULL|              0|            0|                  0|                0|               1|240 Explosion (no...|    N None|      86 Investigate|                  NULL|              NULL|                      NULL|419 1 or 2 family...|               NULL|          NULL|                   NULL|                     NULL|       NULL|              NULL|                                  NULL|          NULL|            NULL|                NULL|       NULL|             NA|                                NULL|                                    NULL|                              NULL|                                NULL|             NULL|         NULL|              NULL|                  NULL|                   NULL|                                  NULL|                              NULL|                                    NULL|                                        NULL|                               NULL|                  8|           Noe Valley|POINT (-122.43020...|2015/06/14 07:10:...|2025/04/29 02:17:...|\n",
      "|       15063242|              0|150632420|405 PARNASSUS AVENUE|   2015/06/14|  151652761|2015/06/14 07:12:...|2015/06/14 07:18:...|2015/06/14 08:32:...|San Francisco|  94117|      B05|          12|5155|                1|                    5|        0|            0|          0|              0|               NULL|                   NULL|                   NULL|              0|            0|                  0|                0|               1|353 Removal of vi...|    N None|23 Extricate, dis...|                  NULL|              NULL|                      NULL|331 Hospital - me...|               NULL|          NULL|                   NULL|                     NULL|       NULL|              NULL|                                  NULL|          NULL|            NULL|                NULL|       NULL|             NA|                                NULL|                                    NULL|                              NULL|                                NULL|             NULL|         NULL|              NULL|                  NULL|                   NULL|                                  NULL|                              NULL|                                    NULL|                                        NULL|                               NULL|                  7|         Inner Sunset|POINT (-122.45676...|2015/06/14 08:32:...|2025/04/29 02:17:...|\n",
      "|       15063245|              0|150632450|       90 7TH STREET|   2015/06/14|  151652799|2015/06/14 07:23:...|2015/06/14 07:29:...|2015/06/14 07:40:...|San Francisco|  94103|      B02|          01|2315|                3|                   11|        0|            0|          0|              0|               NULL|                   NULL|                   NULL|              0|            0|                  0|                0|               1|733 Smoke detecto...|    N None|      86 Investigate|  84 Refer to prope...|              NULL|                      NULL|150 Public or gov...|               NULL|          NULL|                   NULL|                     NULL|       NULL|              NULL|                                  NULL|          NULL|            NULL|                NULL|       NULL|             NA|                                NULL|                                    NULL|                              NULL|                                NULL|             NULL|         NULL|              NULL|                  NULL|                   NULL|                                  NULL|                              NULL|                                    NULL|                                        NULL|                               NULL|                  6|      South of Market|POINT (-122.41115...|2015/06/14 07:40:...|2025/04/29 02:17:...|\n",
      "|       15063255|              0|150632550|    4521 25TH STREET|   2015/06/14|  151652893|2015/06/14 07:56:...|2015/06/14 08:01:...|2015/06/14 08:04:...|San Francisco|  94114|      B06|          24|5542|                3|                   10|        0|            0|          0|              0|               NULL|                   NULL|                   NULL|              0|            0|                  0|                0|               1|743 Smoke detecto...|    N None|      86 Investigate|                  NULL|              NULL|                      NULL|419 1 or 2 family...|               NULL|          NULL|                   NULL|                     NULL|       NULL|              NULL|                                  NULL|          NULL|            NULL|                NULL|       NULL|             NA|                                NULL|                                    NULL|                              NULL|                                NULL|             NULL|         NULL|              NULL|                  NULL|                   NULL|                                  NULL|                              NULL|                                    NULL|                                        NULL|                               NULL|                  8|           Noe Valley|POINT (-122.43965...|2015/06/14 08:04:...|2025/04/29 02:17:...|\n",
      "+---------------+---------------+---------+--------------------+-------------+-----------+--------------------+--------------------+--------------------+-------------+-------+---------+------------+----+-----------------+---------------------+---------+-------------+-----------+---------------+-------------------+-----------------------+-----------------------+---------------+-------------+-------------------+-----------------+----------------+--------------------+----------+--------------------+----------------------+------------------+--------------------------+--------------------+-------------------+--------------+-----------------------+-------------------------+-----------+------------------+--------------------------------------+--------------+----------------+--------------------+-----------+---------------+------------------------------------+----------------------------------------+----------------------------------+------------------------------------+-----------------+-------------+------------------+----------------------+-----------------------+--------------------------------------+----------------------------------+----------------------------------------+--------------------------------------------+-----------------------------------+-------------------+---------------------+--------------------+--------------------+--------------------+\n",
      "only showing top 20 rows\n",
      "\n"
     ]
    },
    {
     "name": "stderr",
     "output_type": "stream",
     "text": [
      "25/05/02 13:04:40 WARN SparkStringUtils: Truncated the string representation of a plan since it was too large. This behavior can be adjusted by setting 'spark.sql.debug.maxToStringFields'.\n"
     ]
    }
   ],
   "source": [
    "fire_data_df = spark.read.csv(\"./Fire_Incidents_20250429.csv\", header=True, inferSchema=True)\n",
    "fire_data_df.show()"
   ]
  },
  {
   "cell_type": "code",
   "execution_count": 5,
   "metadata": {},
   "outputs": [
    {
     "name": "stderr",
     "output_type": "stream",
     "text": [
      "[Stage 5:>                                                          (0 + 1) / 1]\r"
     ]
    },
    {
     "name": "stdout",
     "output_type": "stream",
     "text": [
      "+-------+--------------------+--------------------+-------------------+--------------------+-------------+--------------------+--------------------+--------------------+--------------------+-----------+-----------------+---------+------------------+------------------+-----------------+---------------------+-------------------+-------------------+------------------+-------------------+-------------------+-----------------------+-----------------------+--------------------+--------------------+--------------------+--------------------+------------------+-----------------+--------------------+--------------------+----------------------+--------------------+--------------------------+--------------------+-------------------+--------------------+-----------------------+-------------------------+--------------------+--------------------+--------------------------------------+--------------------+----------------+--------------------+--------------------+------------------+------------------------------------+----------------------------------------+----------------------------------+------------------------------------+-----------------+--------------------+--------------------+----------------------+-----------------------+--------------------------------------+----------------------------------+----------------------------------------+--------------------------------------------+-----------------------------------+-------------------+---------------------+--------------------+--------------------+--------------------+\n",
      "|summary|     Incident Number|     Exposure Number|                 ID|             Address|Incident Date|         Call Number|          Alarm DtTm|        Arrival DtTm|          Close DtTm|       City|          zipcode|Battalion|      Station Area|               Box|Suppression Units|Suppression Personnel|          EMS Units|      EMS Personnel|       Other Units|    Other Personnel|First Unit On Scene|Estimated Property Loss|Estimated Contents Loss|     Fire Fatalities|       Fire Injuries| Civilian Fatalities|   Civilian Injuries|  Number of Alarms|Primary Situation|          Mutual Aid|Action Taken Primary|Action Taken Secondary|  Action Taken Other|Detector Alerted Occupants|        Property Use|Area of Fire Origin|      Ignition Cause|Ignition Factor Primary|Ignition Factor Secondary|         Heat Source|  Item First Ignited|Human Factors Associated with Ignition|      Structure Type|Structure Status|Floor of Fire Origin|         Fire Spread|   No Flame Spread|Number of floors with minimum damage|Number of floors with significant damage|Number of floors with heavy damage|Number of floors with extreme damage|Detectors Present|       Detector Type|  Detector Operation|Detector Effectiveness|Detector Failure Reason|Automatic Extinguishing System Present|Automatic Extinguishing Sytem Type|Automatic Extinguishing Sytem Perfomance|Automatic Extinguishing Sytem Failure Reason|Number of Sprinkler Heads Operating|Supervisor District|neighborhood_district|               point|          data_as_of|      data_loaded_at|\n",
      "+-------+--------------------+--------------------+-------------------+--------------------+-------------+--------------------+--------------------+--------------------+--------------------+-----------+-----------------+---------+------------------+------------------+-----------------+---------------------+-------------------+-------------------+------------------+-------------------+-------------------+-----------------------+-----------------------+--------------------+--------------------+--------------------+--------------------+------------------+-----------------+--------------------+--------------------+----------------------+--------------------+--------------------------+--------------------+-------------------+--------------------+-----------------------+-------------------------+--------------------+--------------------+--------------------------------------+--------------------+----------------+--------------------+--------------------+------------------+------------------------------------+----------------------------------------+----------------------------------+------------------------------------+-----------------+--------------------+--------------------+----------------------+-----------------------+--------------------------------------+----------------------------------+----------------------------------------+--------------------------------------------+-----------------------------------+-------------------+---------------------+--------------------+--------------------+--------------------+\n",
      "|  count|              702287|              702287|             702287|              701981|       702287|              702287|              702286|              702211|              702272|     700361|           702118|   702287|            701465|            404440|           702287|               702287|             702287|             702287|            702287|             702287|             329824|                 134982|                 141512|              702287|              702287|              702287|              702287|            702287|           702271|              702276|              702181|                 43715|                5750|                     36036|              699117|              35750|               35746|                  33443|                      255|               35748|               35746|                                 32817|               10106|            9043|                9795|                3142|            329692|                                6639|                                    6631|                              6614|                                6616|             9043|                4926|                4888|                  3414|                    267|                                  9106|                              1149|                                    1152|                                          82|                               6998|             691315|               691509|              701577|              702287|              702287|\n",
      "|   mean|1.4113812955362977E7|5.126109411109703E-4|1.411381295541424E8|2.244668911335582...|         NULL|1.4229017617081052E8|                NULL|                NULL|                NULL|       NULL|94114.13481605433|     NULL| 18.98252242042833| 4139.545134887861|2.501534273025131|     9.06535789499165|0.19367010922884803|0.35358478798553866|0.0417849112969484|0.07686743453887086|  78.43616484440706|      8120.734078173386|     2549.4099836056307|2.847838561727613E-6|2.320988427808004...|5.838069051541606E-5|0.001046580671434...|1.0011334397475675|             NULL|                NULL|                NULL|                  NULL|                NULL|                      NULL|                NULL|               NULL|                NULL|                   NULL|                     NULL|                NULL|                NULL|                                  NULL|                NULL|            NULL|  2.2480857580398164|                NULL|1.9781811160455687|                  0.7242054526284079|                     0.15955361182325442|               0.08482007862110674|                 0.04156590084643289|             NULL|                NULL|                NULL|                  NULL|                   NULL|                                  NULL|                              NULL|                                    NULL|                                        NULL|                0.12089168333809659|  5.800504834988391|                 NULL|                NULL|                NULL|                NULL|\n",
      "| stddev|  6530176.4140449315|0.032280762497299706|6.530176414103991E7|4.994073055283274...|         NULL| 6.516668341011921E7|                NULL|                NULL|                NULL|       NULL|10.66001112541891|     NULL|14.173817045781693|2367.8191984942127|7.525380751473311|   19.639758069894025| 1.0102654295235574| 1.1538488556872089|1.2229844481213237| 1.3009832977638898| 12.221486885076986|      330021.2620389583|     271462.32761517406|0.002386561778679797| 0.02267116499846222|0.008687026017918983| 0.06007116766107499|0.0439914570337328|             NULL|                NULL|                NULL|                  NULL|                NULL|                      NULL|                NULL|               NULL|                NULL|                   NULL|                     NULL|                NULL|                NULL|                                  NULL|                NULL|            NULL|   5.321606599023325|                NULL|1.1663935948793522|                  0.5108081881550676|                     0.44198787864650424|                0.3410996919269893|                 0.27204590817596974|             NULL|                NULL|                NULL|                  NULL|                   NULL|                                  NULL|                              NULL|                                    NULL|                                        NULL|                  0.481726332604867| 2.8274912777865864|                 NULL|                NULL|                NULL|                NULL|\n",
      "|    min|             3000001|                   0|           30000010|!9TH ST./INDIANA ST.|   2003/01/01|            30010002|2003/01/01 01:02:...|2003/01/01 01:05:...|2003/01/01 01:05:...|         AI|       00000-9412|      B01|                01|              0010|                0|                    0|                  0|                  0|                 0|                  0|                 51|               -25000.0|                -5000.0|                   0|                   0|                   0|                   0|                 1|              1 -|1 Mutual aid rece...|00 - Action taken...|  00 Action taken, ...|00 Action taken, ...|      1 - Detector aler...|000 - Property Us...|                0 -|    0 - Cause, other|   00 - Other factor...|     00 - Other factor...|00 - Heat source:...|00 - Item First I...|                            1 - Asleep|0 -Structure type...|        0 -Other|                  -3|00 -Item First Ig...|                 1|                                   0|                                       0|                                 0|                                   0|       1 -Present|0 -Detector type,...|1 -Fire too small...|  1 -Alerted occupa...|   0 -Detector failu...|                            1 -Present|              0 -Special hazard...|                    0 -Operation of A...|                        0 -Reason system ...|                                  0|                  1| Bayview Hunters P...|POINT (-122.29511...|1900/01/01 12:07:...|2025/04/29 02:17:...|\n",
      "|    25%|             8108782|                   0|           81087820|                 1.0|         NULL|            83560144|                NULL|                NULL|                NULL|       NULL|          94107.0|     NULL|               6.0|            2146.0|                1|                    4|                  0|                  0|                 0|                  0|               68.0|                    0.0|                    0.0|                   0|                   0|                   0|                   0|                 1|             NULL|                NULL|                NULL|                  NULL|                NULL|                      NULL|                NULL|               NULL|                NULL|                   NULL|                     NULL|                NULL|                NULL|                                  NULL|                NULL|            NULL|                   1|                NULL|               1.0|                                   0|                                       0|                                 0|                                   0|             NULL|                NULL|                NULL|                  NULL|                   NULL|                                  NULL|                              NULL|                                    NULL|                                        NULL|                                  0|                  3|                 NULL|                NULL|                NULL|                NULL|\n",
      "|    50%|            14103806|                   0|          141038060|                 1.0|         NULL|           142943244|                NULL|                NULL|                NULL|       NULL|          94112.0|     NULL|              16.0|            3541.0|                2|                    9|                  0|                  0|                 0|                  0|               81.0|                    0.0|                    0.0|                   0|                   0|                   0|                   0|                 1|             NULL|                NULL|                NULL|                  NULL|                NULL|                      NULL|                NULL|               NULL|                NULL|                   NULL|                     NULL|                NULL|                NULL|                                  NULL|                NULL|            NULL|                   2|                NULL|               2.0|                                   1|                                       0|                                 0|                                   0|             NULL|                NULL|                NULL|                  NULL|                   NULL|                                  NULL|                              NULL|                                    NULL|                                        NULL|                                  0|                  6|                 NULL|                NULL|                NULL|                NULL|\n",
      "|    75%|            20032611|                   0|          200326110|               700.0|         NULL|           200750197|                NULL|                NULL|                NULL|       NULL|          94122.0|     NULL|              33.0|            6241.0|                3|                   10|                  0|                  0|                 0|                  0|               88.0|                    0.0|                    0.0|                   0|                   0|                   0|                   0|                 1|             NULL|                NULL|                NULL|                  NULL|                NULL|                      NULL|                NULL|               NULL|                NULL|                   NULL|                     NULL|                NULL|                NULL|                                  NULL|                NULL|            NULL|                   2|                NULL|               2.0|                                   1|                                       0|                                 0|                                   0|             NULL|                NULL|                NULL|                  NULL|                   NULL|                                  NULL|                              NULL|                                    NULL|                                        NULL|                                  0|                  8|                 NULL|                NULL|                NULL|                NULL|\n",
      "|    max|            25061331|                   7|          250613310|santa ro NORTH CA...|   2025/04/28|           251182151|2025/04/28 12:52:...|2025/04/28 12:56:...|2025/04/28 12:34:...|Yerba Buena|            96102|      B99|                OT|                 `|             3333|                 5960|                574|                312|              1000|               1000|                UU1|                  1.0E8|                  1.0E8|                   2|                   9|                   3|                  24|                 5|              Y -|     Other aid given|93 Cancelled en r...|  93 Cancelled en r...|93 - Cancelled en...|                 U Unknown|    UUU Undetermined|    UU Undetermined|U Cause undetermi...|        UU Undetermined|     74 Outside/open f...|Undetermined Unde...|     UU Undetermined|                             null null|8 Connective stru...|  U Undetermined|                 105|     UU Undetermined|               YES|                                   5|                                       7|                                 5|                                   6|   U Undetermined|      U Undetermined|      U Undetermined|        U Undetermined|         U Undetermined|                        U Undetermined|                    U Undetermined|                          U Undetermined|                                Undetermined|                                 20|                 11|     Western Addition|POINT (122.418147...|2025/04/28 12:34:...|2025/04/29 02:17:...|\n",
      "+-------+--------------------+--------------------+-------------------+--------------------+-------------+--------------------+--------------------+--------------------+--------------------+-----------+-----------------+---------+------------------+------------------+-----------------+---------------------+-------------------+-------------------+------------------+-------------------+-------------------+-----------------------+-----------------------+--------------------+--------------------+--------------------+--------------------+------------------+-----------------+--------------------+--------------------+----------------------+--------------------+--------------------------+--------------------+-------------------+--------------------+-----------------------+-------------------------+--------------------+--------------------+--------------------------------------+--------------------+----------------+--------------------+--------------------+------------------+------------------------------------+----------------------------------------+----------------------------------+------------------------------------+-----------------+--------------------+--------------------+----------------------+-----------------------+--------------------------------------+----------------------------------+----------------------------------------+--------------------------------------------+-----------------------------------+-------------------+---------------------+--------------------+--------------------+--------------------+\n",
      "\n"
     ]
    },
    {
     "name": "stderr",
     "output_type": "stream",
     "text": [
      "                                                                                \r"
     ]
    }
   ],
   "source": [
    "fire_data_df.summary().show()"
   ]
  },
  {
   "cell_type": "code",
   "execution_count": null,
   "metadata": {},
   "outputs": [
    {
     "name": "stdout",
     "output_type": "stream",
     "text": [
      "+---------------+---------------+---------+--------------------+-------------+-----------+--------------------+--------------------+--------------------+----+-------+---------+------------+----+-----------------+---------------------+---------+-------------+-----------+---------------+-------------------+-----------------------+-----------------------+---------------+-------------+-------------------+-----------------+----------------+--------------------+--------------+--------------------+----------------------+------------------+--------------------------+--------------------+-------------------+--------------+-----------------------+-------------------------+--------------+------------------+--------------------------------------+--------------+----------------+--------------------+--------------+---------------+------------------------------------+----------------------------------------+----------------------------------+------------------------------------+-----------------+--------------+------------------+----------------------+-----------------------+--------------------------------------+----------------------------------+----------------------------------------+--------------------------------------------+-----------------------------------+-------------------+---------------------+--------------------+--------------------+--------------------+-----------------------------------+-----------------------------------------+---------------------------------------------+\n",
      "|Incident Number|Exposure Number|       ID|             Address|Incident Date|Call Number|          Alarm DtTm|        Arrival DtTm|          Close DtTm|City|zipcode|Battalion|Station Area| Box|Suppression Units|Suppression Personnel|EMS Units|EMS Personnel|Other Units|Other Personnel|First Unit On Scene|Estimated Property Loss|Estimated Contents Loss|Fire Fatalities|Fire Injuries|Civilian Fatalities|Civilian Injuries|Number of Alarms|   Primary Situation|    Mutual Aid|Action Taken Primary|Action Taken Secondary|Action Taken Other|Detector Alerted Occupants|        Property Use|Area of Fire Origin|Ignition Cause|Ignition Factor Primary|Ignition Factor Secondary|   Heat Source|Item First Ignited|Human Factors Associated with Ignition|Structure Type|Structure Status|Floor of Fire Origin|   Fire Spread|No Flame Spread|Number of floors with minimum damage|Number of floors with significant damage|Number of floors with heavy damage|Number of floors with extreme damage|Detectors Present| Detector Type|Detector Operation|Detector Effectiveness|Detector Failure Reason|Automatic Extinguishing System Present|Automatic Extinguishing Sytem Type|Automatic Extinguishing Sytem Perfomance|Automatic Extinguishing Sytem Failure Reason|Number of Sprinkler Heads Operating|Supervisor District|neighborhood_district|               point|          data_as_of|      data_loaded_at|Automatic Extinguishing System Type|Automatic Extinguishing System Perfomance|Automatic Extinguishing System Failure Reason|\n",
      "+---------------+---------------+---------+--------------------+-------------+-----------+--------------------+--------------------+--------------------+----+-------+---------+------------+----+-----------------+---------------------+---------+-------------+-----------+---------------+-------------------+-----------------------+-----------------------+---------------+-------------+-------------------+-----------------+----------------+--------------------+--------------+--------------------+----------------------+------------------+--------------------------+--------------------+-------------------+--------------+-----------------------+-------------------------+--------------+------------------+--------------------------------------+--------------+----------------+--------------------+--------------+---------------+------------------------------------+----------------------------------------+----------------------------------+------------------------------------+-----------------+--------------+------------------+----------------------+-----------------------+--------------------------------------+----------------------------------+----------------------------------------+--------------------------------------------+-----------------------------------+-------------------+---------------------+--------------------+--------------------+--------------------+-----------------------------------+-----------------------------------------+---------------------------------------------+\n",
      "|       15063164|              0|150631640|   61 CONCORD STREET|   2015/06/14|  151652069|2015/06/14 03:41:...|2015/06/14 03:45:...|2015/06/14 03:55:...|  SF|  94112|      B09|          43|6221|                1|                    4|        0|            0|          0|              0|     U Undetermined|                    0.0|                    0.0|              0|            0|                  0|                0|               1|400 Hazardous con...|U Undetermined|      86 Investigate|        U Undetermined|    U Undetermined|            U Undetermined|400 Residential, ...|     U Undetermined|U Undetermined|         U Undetermined|           U Undetermined|U Undetermined|    U Undetermined|                        U Undetermined|U Undetermined|  U Undetermined|                NULL|U Undetermined|             NA|                                NULL|                                    NULL|                              NULL|                                NULL|   U Undetermined|U Undetermined|    U Undetermined|        U Undetermined|         U Undetermined|                        U Undetermined|                    U Undetermined|                          U Undetermined|                              U Undetermined|                               NULL|                 11|            Excelsior|POINT (-122.44276...|2015/06/14 03:55:...|2025/04/29 02:17:...|                     U Undetermined|                           U Undetermined|                               U Undetermined|\n",
      "|       15063172|              0|150631720|HYDE ST/ELLIS STREET|   2015/06/14|  151652108|2015/06/14 03:58:...|2015/06/14 04:01:...|2015/06/14 04:02:...|  SF|  94109|      B02|          03|1555|                2|                    9|        0|            0|          0|              0|     U Undetermined|                    0.0|                    0.0|              0|            0|                  0|                0|               1|700 False alarm o...|U Undetermined|80 Information, i...|        U Undetermined|    U Undetermined|            U Undetermined|      U Undetermined|     U Undetermined|U Undetermined|         U Undetermined|           U Undetermined|U Undetermined|    U Undetermined|                        U Undetermined|U Undetermined|  U Undetermined|                NULL|U Undetermined|             NA|                                NULL|                                    NULL|                              NULL|                                NULL|   U Undetermined|U Undetermined|    U Undetermined|        U Undetermined|         U Undetermined|                        U Undetermined|                    U Undetermined|                          U Undetermined|                              U Undetermined|                               NULL|                  5|           Tenderloin|POINT (-122.41607...|2015/06/14 04:02:...|2025/04/29 02:17:...|                     U Undetermined|                           U Undetermined|                               U Undetermined|\n",
      "+---------------+---------------+---------+--------------------+-------------+-----------+--------------------+--------------------+--------------------+----+-------+---------+------------+----+-----------------+---------------------+---------+-------------+-----------+---------------+-------------------+-----------------------+-----------------------+---------------+-------------+-------------------+-----------------+----------------+--------------------+--------------+--------------------+----------------------+------------------+--------------------------+--------------------+-------------------+--------------+-----------------------+-------------------------+--------------+------------------+--------------------------------------+--------------+----------------+--------------------+--------------+---------------+------------------------------------+----------------------------------------+----------------------------------+------------------------------------+-----------------+--------------+------------------+----------------------+-----------------------+--------------------------------------+----------------------------------+----------------------------------------+--------------------------------------------+-----------------------------------+-------------------+---------------------+--------------------+--------------------+--------------------+-----------------------------------+-----------------------------------------+---------------------------------------------+\n",
      "only showing top 2 rows\n",
      "\n"
     ]
    }
   ],
   "source": [
    "fire_data_df_2 = fire_data_df \\\n",
    "    .withColumn('Automatic Extinguishing System Type', regexp_replace(col('Automatic Extinguishing Sytem Type'), '-', '')) \\\n",
    "    .withColumn('Detector Type', regexp_replace(col('Detector Type'), '-', '')) \\\n",
    "    .withColumn('Detector Operation', regexp_replace(col('Detector Operation'), '-', '')) \\\n",
    "    .withColumn('Detector Effectiveness', regexp_replace(col('Detector Effectiveness'), '-', '')) \\\n",
    "    .withColumn('Detector Failure Reason', regexp_replace(col('Detector Failure Reason'), '-', '')) \\\n",
    "    .withColumn('Automatic Extinguishing System Perfomance', regexp_replace(col('Automatic Extinguishing Sytem Perfomance'), '-', '')) \\\n",
    "    .withColumn('Automatic Extinguishing System Failure Reason', regexp_replace(col('Automatic Extinguishing Sytem Failure Reason'), '-', '')) \\\n",
    "    .withColumn('Automatic Extinguishing System Present', regexp_replace(col('Automatic Extinguishing System Present'), '-', '')) \\\n",
    "    .withColumn('Detectors Present', regexp_replace(col('Detectors Present'), '-', '')) \\\n",
    "    .withColumn('Fire Spread', regexp_replace(col('Fire Spread'), '-', '')) \\\n",
    "    .withColumn('Fire Spread', \n",
    "                when(col('Fire Spread').rlike(r'^00'), '00 Item first ignited, other')\n",
    "                .when(col('Fire Spread').rlike(r'^11'), '11 Exterior roof covering or finish')\n",
    "                .when(col('Fire Spread').rlike(r'^12'), '12 Exterior wall covering or finish')\n",
    "                .when(col('Fire Spread').rlike(r'^15'), '15 Interior wall covering excluding drapes, etc.')\n",
    "                .when(col('Fire Spread').rlike(r'^61'), '61 Atomized liquid, vaporized liquid, aerosol.')\n",
    "                .when(col('Fire Spread').rlike(r'^66'), '66 Pipe, duct, conduit, hose')\n",
    "                .when(col('Fire Spread').rlike(r'^UU'), 'U Undetermined')\n",
    "                .otherwise(col('Fire Spread'))) \\\n",
    "    .withColumn('Fire Spread', regexp_replace(col('Fire Spread'), r'\\.,', ',')) \\\n",
    "    .withColumn('Structure Status', regexp_replace(col('Structure Status'), '-', '')) \\\n",
    "    .withColumn('Structure Type', regexp_replace(col('Structure Type'), '-', '')) \\\n",
    "    .withColumn('Item First Ignited', \n",
    "                when(col('Item First Ignited').rlike(r'^00'), '00 Item first ignited, other')\n",
    "                .when(col('Item First Ignited').rlike(r'^11'), '11 Exterior roof covering or finish')\n",
    "                .when(col('Item First Ignited').rlike(r'^12'), '12 Exterior wall covering or finish')\n",
    "                .when(col('Item First Ignited').rlike(r'^15'), '15 Interior wall covering excluding drapes, etc.')\n",
    "                .when(col('Item First Ignited').rlike(r'^61'), '61 Atomized liquid, vaporized liquid, aerosol.')\n",
    "                .when(col('Item First Ignited').rlike(r'^66'), '66 Pipe, duct, conduit, hose')\n",
    "                .when(col('Item First Ignited').rlike(r'^UU'), 'U Undetermined')\n",
    "                .otherwise(col('Item First Ignited'))) \\\n",
    "    .withColumn('Heat Source', regexp_replace(col('Heat Source'), '-', '')) \\\n",
    "    .withColumn('Heat Source', regexp_replace(col('Heat Source'), '  ', ' ')) \\\n",
    "    .withColumn('Heat Source', \n",
    "                when(col('Heat Source').rlike(r'^00'), '70 Chemical, natural heat source, other')\n",
    "                .when(col('Heat Source').rlike(r'^11'), '11 Spark, ember, or flame from operating equipment')\n",
    "                .when(col('Heat Source').rlike(r'^12'), '12 Radiated or conducted heat from operating equipment')\n",
    "                .when(col('Heat Source').rlike(r'^13'), '13 Electrical arcing')\n",
    "                .when(col('Heat Source').rlike(r'^40'), '40 Hot or smoldering object, other')\n",
    "                .when(col('Heat Source').rlike(r'^41'), '41 Heat, spark from friction')\n",
    "                .when(col('Heat Source').rlike(r'^42'), '42 Molten, hot material')\n",
    "                .when(col('Heat Source').rlike(r'^43'), '43 Hot ember or ash')\n",
    "                .when(col('Heat Source').rlike(r'^60'), '60 Heat from other open flame or smoking materials, other')\n",
    "                .when(col('Heat Source').rlike(r'^61'), '61 Cigarette')\n",
    "                .when(col('Heat Source').rlike(r'^63'), '63 Heat from undetermined smoking material')\n",
    "                .when(col('Heat Source').rlike(r'^64'), '64 Match')\n",
    "                .when(col('Heat Source').rlike(r'^65'), '65 Cigarette lighter')\n",
    "                .when(col('Heat Source').rlike(r'^66'), '66 Candle')\n",
    "                .when(col('Heat Source').rlike(r'^67'), '67 Warning or road flare; fuse')\n",
    "                .when(col('Heat Source').rlike(r'^68'), '68 Backfire from internal combustion engine')\n",
    "                .when(col('Heat Source').rlike(r'^70'), '70 Chemical, natural heat source, other')\n",
    "                .when(col('Heat Source').rlike(r'^72'), '72 Spontaneous combustion, chemical reaction')\n",
    "                .when(col('Heat Source').rlike(r'^80'), '80 Heat spread from another fire, other')\n",
    "                .when(col('Heat Source').rlike(r'^81'), '81 Heat from direct flame, convection currents')\n",
    "                .when(col('Heat Source').rlike(r'^97'), '97 Multiple heat sources including multiple ignitions')\n",
    "                .when(col('Heat Source').rlike(r'^U '), 'U Undetermined')\n",
    "                .when(col('Heat Source').rlike(r'^NN'), 'U Undetermined')\n",
    "                .otherwise(col('Heat Source'))) \\\n",
    "    .withColumn('Ignition Factor Secondary', regexp_replace(col('Ignition Factor Secondary'), ' -', '')) \\\n",
    "    .withColumn('Ignition Factor Secondary', \n",
    "                when(col('Ignition Factor Secondary').rlike(r'^00'), '00 Other factor contributed to ignition')\n",
    "                .when(col('Ignition Factor Secondary').rlike(r'^11'), '11 Abandoned or discarded materials or products')\n",
    "                .when(col('Ignition Factor Secondary').rlike(r'^12'), '12 Heat source too close to combustibles')\n",
    "                .when(col('Ignition Factor Secondary').rlike(r'^18'), '18 Improper container or storage procedure')\n",
    "                .when(col('Ignition Factor Secondary').rlike(r'^32'), '32 Short circuit arc from mechanical damage')\n",
    "                .when(col('Ignition Factor Secondary').rlike(r'^33'), '33 Shortcircuit arc from defective, worn insulation')\n",
    "                .when(col('Ignition Factor Secondary').rlike(r'^52'), '52 Accidentally turned on, not turned off')\n",
    "                .when(col('Ignition Factor Secondary').rlike(r'^57'), '57 Equipment not used for purpose intended')\n",
    "                .when(col('Ignition Factor Secondary').rlike(r'^73'), '73 Outside/open fire for debris or waste disposal')\n",
    "                .when(col('Ignition Factor Secondary').rlike(r'^74'), '74 Outside/open fire for warming or cooking')\n",
    "                .otherwise(col('Ignition Factor Secondary'))) \\\n",
    "    .withColumn('Ignition Factor Primary', regexp_replace(col('Ignition Factor Primary'), '-', '')) \\\n",
    "    .withColumn('Ignition Factor Primary', regexp_replace(col('Ignition Factor Primary'), '  ', ' ')) \\\n",
    "    .withColumn('Ignition Factor Primary', \n",
    "                when(col('Ignition Factor Primary').rlike(r'^00'), '00 Other factor contributed to ignition')\n",
    "                .when(col('Ignition Factor Primary').rlike(r'^11'), '11 Abandoned or discarded materials or products')\n",
    "                .when(col('Ignition Factor Primary').rlike(r'^12'), '12 Heat source too close to combustibles')\n",
    "                .when(col('Ignition Factor Primary').rlike(r'^13'), '13 Cutting, welding too close to combustible')\n",
    "                .when(col('Ignition Factor Primary').rlike(r'^17'), '17 Washing part, painting with flammable liquid')\n",
    "                .when(col('Ignition Factor Primary').rlike(r'^18'), '18 Improper container or storage procedure')\n",
    "                .when(col('Ignition Factor Primary').rlike(r'^2'), 'U Undetermined')\n",
    "                .when(col('Ignition Factor Primary').rlike(r'^31'), '31 Water caused shortcircuit arc')\n",
    "                .when(col('Ignition Factor Primary').rlike(r'^32'), '32 Shortcircuit arc from mechanical damage')\n",
    "                .when(col('Ignition Factor Primary').rlike(r'^33'), '33 Shortcircuit arc from defective, worn insulation')\n",
    "                .when(col('Ignition Factor Primary').rlike(r'^35'), '35 Arc from faulty contact, broken conductor')\n",
    "                .when(col('Ignition Factor Primary').rlike(r'^40'), '40 Design, manufacture, installation deficiency, other')\n",
    "                .when(col('Ignition Factor Primary').rlike(r'^51'), '51 Collision, knock down, run over, turn over')\n",
    "                .when(col('Ignition Factor Primary').rlike(r'^52'), '52 Accidentally turned on, not turned off')\n",
    "                .when(col('Ignition Factor Primary').rlike(r'^57'), '57 Equipment not used for purpose intended')\n",
    "                .when(col('Ignition Factor Primary').rlike(r'^58'), '58 Equipment not being operated properly')\n",
    "                .when(col('Ignition Factor Primary').rlike(r'^5U'), '5U Undetermined Accidentally turned on, not turned off')\n",
    "                .when(col('Ignition Factor Primary').rlike(r'^73'), '73 Outside/open fire for debris or waste disposal')\n",
    "                .when(col('Ignition Factor Primary').rlike(r'^74'), '74 Outside/open fire for warming or cooking')\n",
    "                .when(col('Ignition Factor Primary').rlike(r'^NN'), 'U Undetermined')\n",
    "                .when(col('Ignition Factor Primary').rlike(r'^U '), 'U Undetermined')\n",
    "                .when(col('Ignition Factor Primary').rlike(r'^UU'), 'U Undetermined')\n",
    "                .when(col('Ignition Factor Primary').rlike(r'^7U'), '7U Undetermined Rekindle')\n",
    "                .when(col('Ignition Factor Primary').rlike(r'^otherr'), 'other')\n",
    "                .otherwise(col('Ignition Factor Primary'))) \\\n",
    "    .withColumn('Ignition Cause', regexp_replace(col('Ignition Cause'), ' -', '')) \\\n",
    "    .withColumn('Ignition Cause', \n",
    "                when(col('Ignition Cause').rlike(r'^0 Cause, other'), '0 Cause, other')\n",
    "                .when(col('Ignition Cause').rlike(r'^U Cause undetermined after investigation'), 'U Undetermined')\n",
    "                .otherwise(col('Ignition Cause'))) \\\n",
    "    .withColumn('Area of Fire Origin', regexp_replace(col('Area of Fire Origin'), ' -', '')) \\\n",
    "    .withColumn('Area of Fire Origin', \n",
    "                when(col('Area of Fire Origin').rlike(r'^00'), '00 Other area of fire origin')\n",
    "                .when(col('Area of Fire Origin').rlike(r'^02'), '02 Exterior stairway, ramp, or fire escape')\n",
    "                .when(col('Area of Fire Origin').rlike(r'^05'), '05 Entrance way, lobby')\n",
    "                .when(col('Area of Fire Origin').rlike(r'^11'), '11 Arena, assembly area w/ fixed seats 100+ persons')\n",
    "                .when(col('Area of Fire Origin').rlike(r'^12'), '12 Assembly area w/o fixed seats 100+')\n",
    "                .when(col('Area of Fire Origin').rlike(r'^14'), '14 Common room, den, family room, living room, lounge')\n",
    "                .when(col('Area of Fire Origin').rlike(r'^15'), '15 Sales area, showroom (excludes display window)')\n",
    "                .when(col('Area of Fire Origin').rlike(r'^20'), '20 Function area, other')\n",
    "                .when(col('Area of Fire Origin').rlike(r'^21'), '21 Bedroom < 5 persons; included are jail or prison')\n",
    "                .when(col('Area of Fire Origin').rlike(r'^22'), '22 Bedroom 5+ persons; including barrack/dormitory')\n",
    "                .when(col('Area of Fire Origin').rlike(r'^25'), '25 Bathroom, checkroom, lavatory, locker room')\n",
    "                .when(col('Area of Fire Origin').rlike(r'^28'), '28 Personal service area, barber/beauty salon area')\n",
    "                .when(col('Area of Fire Origin').rlike(r'^32'), '32 Dark room, photography area, or printing area')\n",
    "                .when(col('Area of Fire Origin').rlike(r'^32'), '34 Surgery area major operations, operating room')\n",
    "                .when(col('Area of Fire Origin').rlike(r'^38'), '38 Processing/manufacturing area, workroom')\n",
    "                .when(col('Area of Fire Origin').rlike(r'^43'), '43 Storage: supplies or tools; dead storage')\n",
    "                .when(col('Area of Fire Origin').rlike(r'^45'), '45 Shipping/receiving area; loading area, dock or bay')\n",
    "                .when(col('Area of Fire Origin').rlike(r'^46'), '46 Chute/container trash, rubbish, waste')\n",
    "                .when(col('Area of Fire Origin').rlike(r'^51'), '51 Dumbwaiter or elavator shaft')\n",
    "                .when(col('Area of Fire Origin').rlike(r'^52'), '52 Conduit, pipe, utility, or ventilation shaft')\n",
    "                .when(col('Area of Fire Origin').rlike(r'^54'), '54 Chute; laundry or mail, excluding trash chutes')\n",
    "                .when(col('Area of Fire Origin').rlike(r'^55'), '55 Duct: hvac, cable, exhaust, heating, or AC')\n",
    "                .when(col('Area of Fire Origin').rlike(r'^61'), '61 Machinery room or area; elevator machinery room')\n",
    "                .when(col('Area of Fire Origin').rlike(r'^65'), '65 Maintenance shop or area, paint shop or area')\n",
    "                .when(col('Area of Fire Origin').rlike(r'^71'), '71 Substructure area or space, crawl space')\n",
    "                .when(col('Area of Fire Origin').rlike(r'^73'), '73 Ceiling and floor assembly, crawl space between stories')\n",
    "                .when(col('Area of Fire Origin').rlike(r'^74'), '74 Attic: vacant, crawl space above top story')\n",
    "                .when(col('Area of Fire Origin').rlike(r'^75'), '75 Wall assembly, concealed wall space')\n",
    "                .when(col('Area of Fire Origin').rlike(r'^81'), '81 Operator/passenger area of transportation equipment')\n",
    "                .when(col('Area of Fire Origin').rlike(r'^82'), '82 Cargo/trunk area all vehicles')\n",
    "                .when(col('Area of Fire Origin').rlike(r'^85'), '85 Separate operator/control area of transportation equipment')\n",
    "                .when(col('Area of Fire Origin').rlike(r'^91'), '91 Railroad right-of-way: on or near')\n",
    "                .when(col('Area of Fire Origin').rlike(r'^92'), '92 Highway, parking lot, street: on or near')\n",
    "                .when(col('Area of Fire Origin').rlike(r'^93'), '93 Courtyard, patio, porch, terrace')\n",
    "                .when(col('Area of Fire Origin').rlike(r'^94'), '94 Open area, outside; included are farmland, field')\n",
    "                .when(col('Area of Fire Origin').rlike(r'^U'), 'U Undetermined')\n",
    "                .when(col('Area of Fire Origin') == '0', '00 Other area of fire origin')\n",
    "                .otherwise(col('Area of Fire Origin'))) \\\n",
    "    .withColumn('Property Use', regexp_replace(col('Property Use'), ' -', '')) \\\n",
    "    .withColumn('Property Use', \n",
    "                when(col('Property Use').isin(['1', '3', '4191', '5', '7003', 'NNN None', 'UUU Undetermined']), 'U Undetermined')\n",
    "                .when(col('Property Use').rlike(r'^110'), '110 Fixed use recreation places, other')\n",
    "                .when(col('Property Use').rlike(r'^111'), '111 Bowling establishment')\n",
    "                .when(col('Property Use').rlike(r'^120'), '120 Variable use amusement, recreation places')\n",
    "                .when(col('Property Use').rlike(r'^130'), '130 Places of worship, funeral parlors')\n",
    "                .when(col('Property Use').rlike(r'^131'), '131 Church, mosque, synagogue, temple, chapel')\n",
    "                .when(col('Property Use').rlike(r'^154'), '154 Memorial structure, including monuments & statues')\n",
    "                .when(col('Property Use').rlike(r'^160'), '160 Eating, drinking places')\n",
    "                .when(col('Property Use').rlike(r'^182'), '182 Auditorium or concert hall')\n",
    "                .when(col('Property Use').rlike(r'^210'), '210 Schools, non-adult')\n",
    "                .when(col('Property Use').rlike(r'^213'), '213 Elementary school, including kindergarten')\n",
    "                .when(col('Property Use').rlike(r'^215'), '215 Middle/Junior or High School')\n",
    "                .when(col('Property Use').rlike(r'^241'), '241 Adult education center, college classroom')\n",
    "                .when(col('Property Use').rlike(r'^300'), '300 Health care, detention, & correction, other')\n",
    "                .when(col('Property Use').rlike(r'^311'), '311 24-hour care Nursing homes, 4 or more persons')\n",
    "                .when(col('Property Use').rlike(r'^321'), '321 Mental retardation/development disability facility')\n",
    "                .when(col('Property Use').rlike(r'^322'), '322 Alcohol or substance abuse recovery center')\n",
    "                .when(col('Property Use').rlike(r'^340'), '340 Clinics, doctors offices, hemodialysis cntr, other')\n",
    "                .when(col('Property Use').rlike(r'^342'), \"342 Doctor, dentist or oral surgeon's office\")\n",
    "                .when(col('Property Use').rlike(r'^429'), '429 Multifamily dwellings')\n",
    "                .when(col('Property Use').rlike(r'^439'), '439 Boarding/rooming house, residential hotels')\n",
    "                .when(col('Property Use').rlike(r'^460'), '460 Dormitory type residence, other')\n",
    "                .when(col('Property Use').rlike(r'^557'), '557 Personal service, including barber & beauty shops')\n",
    "                .when(col('Property Use').rlike(r'^559'), '559 Recreational, hobby, home repair sales, pet store')\n",
    "                .when(col('Property Use').rlike(r'^579'), '579 Motor vehicle or boat sales, services, repair')\n",
    "                .when(col('Property Use').isin(['600 Ind., utility, defense, agriculture, mining, other', '600 Utility/Defense/Agriculture/mining, oth.']), '600 Ind. utility, defense, agriculture, mining, other')\n",
    "                .when(col('Property Use').rlike(r'^614'), '614 Steam or heat generating plant')\n",
    "                .when(col('Property Use').rlike(r'^629'), '629 Laboratory or science laboratory')\n",
    "                .when(col('Property Use').rlike(r'^644'), '644 Gas distribution, gas pipeline')\n",
    "                .when(col('Property Use').rlike(r'^645'), '645 Flammable liquid distribution, F.L. pipeline')\n",
    "                .when(col('Property Use').rlike(r'^881'), '881 Parking garage, (detached residential garage)')\n",
    "                .when(col('Property Use').rlike(r'^899'), '899 Residential or self storage units')\n",
    "                .when(col('Property Use').rlike(r'^951'), '951 Railroad right-of-way')\n",
    "                .when(col('Property Use').rlike(r'^961'), '961 Highway or divided highway (Street)')\n",
    "                .when(col('Property Use').rlike(r'^961'), '962 Residential street, road or residential driveway')\n",
    "                .when(col('Property Use').rlike(r'^973'), '973 Aircraft taxi-way')\n",
    "                .when(col('Property Use').rlike(r'^983'), '983 Pipeline, power line or other utility right-of-way')\n",
    "                .otherwise(col('Property Use'))) \\\n",
    "    .withColumn('Detector Alerted Occupants', regexp_replace(col('Detector Alerted Occupants'), ' -', '')) \\\n",
    "    .withColumn('Detector Alerted Occupants', when(col('Detector Alerted Occupants').rlike(r'^U'), 'U Undetermined').otherwise(col('Detector Alerted Occupants'))) \\\n",
    "    .withColumn('Action Taken Other', regexp_replace(col('Action Taken Other'), ' -', '')) \\\n",
    "    .withColumn('Action Taken Other', \n",
    "                when(col('Action Taken Other').rlike(r'^11'), '11 Extinguishment by fire service personnel')\n",
    "                .when(col('Action Taken Other').rlike(r'^43'), '43 Hazardous materials spill control and confinement')\n",
    "                .when(col('Action Taken Other').rlike(r'^44'), '44 Hazardous materials leak control & containment')\n",
    "                .when(col('Action Taken Other').rlike(r'^50'), '50 Fires, rescues & hazardous conditions, other')\n",
    "                .when(col('Action Taken Other').rlike(r'^62'), '62 Restore sprinkler or fire protection system')\n",
    "                .when(col('Action Taken Other').rlike(r'^80'), '80 Information, investigation & enforcement, other')\n",
    "                .when(col('Action Taken Other').rlike(r'^83'), '83 Provide information to public or media')\n",
    "                .when(col('Action Taken Other').rlike(r'^87'), '87 Investigate fire out on arrival')\n",
    "                .otherwise(col('Action Taken Other'))) \\\n",
    "    .withColumn('Action Taken Secondary', regexp_replace(col('Action Taken Secondary'), ' -', '')) \\\n",
    "    .withColumn('Action Taken Secondary', \n",
    "                when(col('Action Taken Secondary').rlike(r'^10'), '10 Fire control or extinguishment, other')\n",
    "                .when(col('Action Taken Secondary').rlike(r'^11'), '11 Extinguishment by fire service personnel')\n",
    "                .when(col('Action Taken Secondary').rlike(r'^42'), '42 HazMat detection, monitoring, sampling, & analysis')\n",
    "                .when(col('Action Taken Secondary').rlike(r'^44'), '44 Hazardous materials leak control & containment')\n",
    "                .when(col('Action Taken Secondary').rlike(r'^62'), '62 Restore sprinkler or fire protection system')\n",
    "                .when(col('Action Taken Secondary').rlike(r'^79'), '79 Assess severe weather or natural disaster damage')\n",
    "                .when(col('Action Taken Secondary').rlike(r'^80'), '80 Information, investigation & enforcement, other')\n",
    "                .when(col('Action Taken Secondary').rlike(r'^83'), '83 Provide information to public or media')\n",
    "                .when(col('Action Taken Secondary').rlike(r'^85'), '85 Enforce code')\n",
    "                .when(col('Action Taken Secondary').rlike(r'^87'), '87 Investigate fire out on arrival')\n",
    "                .when(col('Action Taken Secondary').rlike(r'^93'), '93 Cancelled enroute')\n",
    "                .otherwise(col('Action Taken Secondary'))) \\\n",
    "    .withColumn('Action Taken Primary', regexp_replace(col('Action Taken Primary'), ' -', '')) \\\n",
    "    .withColumn('Action Taken Primary', \n",
    "                when(col('Action Taken Primary').isin(['1', '112', '8']), 'U Undetermined')\n",
    "                .when(col('Action Taken Primary').rlike(r'^10'), '10 Fire control or extinguishment, other')\n",
    "                .when(col('Action Taken Primary').rlike(r'^11'), '11 Extinguishment by fire service personnel ')\n",
    "                .when(col('Action Taken Primary').rlike(r'^42'), '42 HazMat detection, monitoring, sampling, & analysis')\n",
    "                .when(col('Action Taken Primary').rlike(r'^43'), '43 Hazardous materials spill control and confinement')\n",
    "                .when(col('Action Taken Primary').rlike(r'^44'), '44 Hazardous materials leak control & containment')\n",
    "                .when(col('Action Taken Primary').rlike(r'^50'), '50 Fires, rescues & hazardous conditions, other')\n",
    "                .when(col('Action Taken Primary').rlike(r'^62'), '62 Restore sprinkler or fire protection system')\n",
    "                .when(col('Action Taken Primary').rlike(r'^79'), '79 Assess severe weather or natural disaster damage')\n",
    "                .when(col('Action Taken Primary').rlike(r'^80'), '80 Information, investigation & enforcement, other')\n",
    "                .when(col('Action Taken Primary').rlike(r'^85'), '85 Enforce code')\n",
    "                .when(col('Action Taken Primary').rlike(r'^87'), '87 Investigate fire out on arrival')\n",
    "                .when(col('Action Taken Primary').rlike(r'^93'), '93 Cancelled enroute')\n",
    "                .otherwise(col('Action Taken Primary'))) \\\n",
    "    .withColumn('Mutual Aid', \n",
    "                when(col('Mutual Aid') == 'Automatic aid given', '4 Automatic aid given')\n",
    "                .when(col('Mutual Aid') == 'Mutual aid given', '3 Mutual aid given')\n",
    "                .when(col('Mutual Aid') == 'Mutual aid received', '2 Automatic aid received')\n",
    "                .when(col('Mutual Aid').rlike(r'^N'), 'U Undetermined')\n",
    "                .when(col('Mutual Aid') == 'Automatic or contract aid received', '2 Automatic aid received')\n",
    "                .when(col('Mutual Aid') == 'Other aid given', '5 Other aid given')\n",
    "                .otherwise(col('Mutual Aid'))) \\\n",
    "    .withColumn('Primary Situation', regexp_replace(col('Primary Situation'), ' -', '')) \\\n",
    "    .withColumn('Primary Situation', \n",
    "                when(col('Primary Situation').isin(['1', '10', '11', '25*', '71', '75', 'CR', 'Y', '']), 'U Undetermined')\n",
    "                .when(col('Primary Situation').rlike(r'^112'), '112 Fires in structure other than in a building')\n",
    "                .when(col('Primary Situation').rlike(r'^114'), '114 Chimney or flue fire, confined to chimney or flue')\n",
    "                .when(col('Primary Situation').rlike(r'^115'), '115 Incinerator overload or malfunction, fire confined')\n",
    "                .when(col('Primary Situation').rlike(r'^116'), '116 Fuel burner/boiler malfunction, fire confined')\n",
    "                .when(col('Primary Situation').rlike(r'^117'), '117 Commercial Compactor fire, confined to rubbish')\n",
    "                .when(col('Primary Situation').rlike(r'^120'), '120 Fire in mobile prop. used as a fixed struc., other')\n",
    "                .when(col('Primary Situation').rlike(r'^121'), '121 Fire in mobile home used as fixed residence ')\n",
    "                .when(col('Primary Situation').rlike(r'^122'), '122 Fire in motor home, camper, recreational vehicle')\n",
    "                .when(col('Primary Situation').rlike(r'^123'), '123 Fire in portable building, fixed location')\n",
    "                .when(col('Primary Situation').rlike(r'^134'), '134 Water vehicle fire (Boat, Ship, etc.)')\n",
    "                .when(col('Primary Situation').rlike(r'^136'), '136 Self-propelled motor home or recreational vehicle')\n",
    "                .when(col('Primary Situation').rlike(r'^142'), '142 Brush, or brush and grass mixture fire')\n",
    "                .when(col('Primary Situation').rlike(r'^154'), '154 Dumpster or other outside trash receptacle fire')\n",
    "                .when(col('Primary Situation').rlike(r'^155'), '155 Outside stationary compactor/compacted trash fire')\n",
    "                .when(col('Primary Situation').rlike(r'^160'), '160 Special outside fire, other')\n",
    "                .when(col('Primary Situation').rlike(r'^162'), '162 Outside equipment fire')\n",
    "                .when(col('Primary Situation').rlike(r'^163'), '163 Outside gas or vapor combustion explosion')\n",
    "                .when(col('Primary Situation').rlike(r'^200'), '200 Overpressure rupture, explosion, overheat other')\n",
    "                .when(col('Primary Situation').rlike(r'^210'), '210 Overpressure rupture from steam, other')\n",
    "                .when(col('Primary Situation').rlike(r'^211'), '211 Overpressure rupture of steam pipe or pipeline')\n",
    "                .when(col('Primary Situation').rlike(r'^213'), '213 Steam rupture of pressure or process vessel')\n",
    "                .when(col('Primary Situation').rlike(r'^220'), '220 Overpressure rupture from air or gas, other')\n",
    "                .when(col('Primary Situation').rlike(r'^221'), '221 Overpressure rupture of air or gas pipe/pipeline')\n",
    "                .when(col('Primary Situation').rlike(r'^222'), '222 Overpressure rupture of boiler from air or gas')\n",
    "                .when(col('Primary Situation').rlike(r'^223'), '223 Air or gas rupture of pressure or process vessel')\n",
    "                .when(col('Primary Situation').rlike(r'^231'), '231 Chemical reaction rupture of process vessel')\n",
    "                .when(col('Primary Situation').rlike(r'^244'), '244 Dust explosion (no fire)')\n",
    "                .when(col('Primary Situation').rlike(r'^251'), '251 Excessive heat, scorch burns with no ignition')\n",
    "                .when(col('Primary Situation').rlike(r'^300'), '300 Rescue, EMS incident, other')\n",
    "                .when(col('Primary Situation').rlike(r'^320'), '320 Emergency medical service incident, other')\n",
    "                .when(col('Primary Situation').rlike(r'^321'), '321 EMS call, excluding vehicle accident with injury')\n",
    "                .when(col('Primary Situation').rlike(r'^322'), '322 Motor vehicle accident with injuries')\n",
    "                .when(col('Primary Situation').rlike(r'^323'), '323 Motor vehicle/pedestrian accident (MV Ped)')\n",
    "                .when(col('Primary Situation').rlike(r'^340'), '340 Search for lost person, other')\n",
    "                .when(col('Primary Situation').rlike(r'^351'), '351 Extrication of victim(s) from building/structure')\n",
    "                .when(col('Primary Situation').rlike(r'^353'), '353 Removal of victim(s) from stalled elevator')\n",
    "                .when(col('Primary Situation').rlike(r'^354'), '354 Trench/below-grade rescue')\n",
    "                .when(col('Primary Situation').rlike(r'^356'), '356 High-angle rescue')\n",
    "                .when(col('Primary Situation').rlike(r'^360'), '360 Water & ice related rescue, other')\n",
    "                .when(col('Primary Situation').rlike(r'^400'), '400 Hazardous condition, other')\n",
    "                .when(col('Primary Situation').rlike(r'^410'), '410 Flammable gas or liquid condition, other')\n",
    "                .when(col('Primary Situation').rlike(r'^420'), '420 Toxic condition, other')\n",
    "                .when(col('Primary Situation').rlike(r'^422'), '422 Chemical spill or leak')\n",
    "                .when(col('Primary Situation').rlike(r'^440'), '440 Electrical wiring/equipment problem, other')\n",
    "                .when(col('Primary Situation').rlike(r'^441'), '441 Heat from short circuit (wiring), defective/worn')\n",
    "                .when(col('Primary Situation').rlike(r'^444'), '444 Power line down (wire)')\n",
    "                .when(col('Primary Situation').rlike(r'^445'), '445 Arcing, shorted electrical equipment')\n",
    "                .when(col('Primary Situation').rlike(r'^461'), '461 Building or structure weakened or collapsed')\n",
    "                .when(col('Primary Situation').rlike(r'^471'), '471 Explosive, bomb removal (for bomb scare, use 721)')\n",
    "                .when(col('Primary Situation').rlike(r'^551'), '551 Assist police or other governmental agency')\n",
    "                .when(col('Primary Situation').rlike(r'^622'), '622 No incident found on arrival at dispatch address')\n",
    "                .when(col('Primary Situation').rlike(r'^641'), '641 Vicinity alarm (incident in other location)')\n",
    "                .when(col('Primary Situation').rlike(r'^650'), '650 Steam, other gas mistaken for smoke, other')\n",
    "                .when(col('Primary Situation').rlike(r'^652'), '652 Steam, vapor, fog or dust thought to be smoke')\n",
    "                .when(col('Primary Situation').rlike(r'^653'), '653 Smoke from barbecue, tar kettle ')\n",
    "                .when(col('Primary Situation').rlike(r'^661'), '661 EMS call, party transported by non-fire agency')\n",
    "                .when(col('Primary Situation').rlike(r'^671'), '671 Hazmat release investigation w/no hazmat')\n",
    "                .when(col('Primary Situation').rlike(r'^672'), '672 Biological hazard investigation, none found')\n",
    "                .when(col('Primary Situation').rlike(r'^711'), '711 Municipal alarm system, malicious false alarm')\n",
    "                .when(col('Primary Situation').rlike(r'^712'), '712 Direct tie to FD, malicious false alarm')\n",
    "                .when(col('Primary Situation').rlike(r'^715'), '715 Local alarm system, malicious false alarm')\n",
    "                .when(col('Primary Situation').rlike(r'^732'), '732 Extinguishing system activation due to malfunction')\n",
    "                .when(col('Primary Situation').rlike(r'^733'), '733 Smoke detector activation due to malfunction')\n",
    "                .when(col('Primary Situation').rlike(r'^734'), '734 Heat detector activation due to malfunction')\n",
    "                .when(col('Primary Situation').rlike(r'^736'), '736 CO detector activation due to malfunction')\n",
    "                .when(col('Primary Situation').rlike(r'^740'), '740 Unintentional transmission of alarm, other')\n",
    "                .when(col('Primary Situation').rlike(r'^741'), '741 Sprinkler activation, no fire unintentional')\n",
    "                .when(col('Primary Situation').rlike(r'^743'), '743 Smoke detector activation, no fire unintentional')\n",
    "                .when(col('Primary Situation').rlike(r'^744'), '744 Detector activation, no fire unintentional')\n",
    "                .when(col('Primary Situation').rlike(r'^745'), '745 Alarm system activation, no fire unintentional')\n",
    "                .when(col('Primary Situation').rlike(r'^746'), '746 Carbon monoxide detector activation, no CO')\n",
    "                .when(col('Primary Situation').rlike(r'^800'), '800 Severe weather or natural disaster, other')\n",
    "                .when(col('Primary Situation').rlike(r'^815'), '815 Severe weather or natural disaster standby')\n",
    "                .otherwise(col('Primary Situation'))) \\\n",
    "    .withColumn('Estimated Contents Loss',\n",
    "                when(col('Estimated Contents Loss').isNull(), 0)\n",
    "                .when(col('Estimated Contents Loss') < 0, 0)\n",
    "                .otherwise(col('Estimated Contents Loss'))) \\\n",
    "    .withColumn('Estimated Property Loss',\n",
    "                when(col('Estimated Property Loss').isNull(), 0)\n",
    "                .when(col('Estimated Property Loss') < 0, 0)\n",
    "                .otherwise(col('Estimated Property Loss'))) \\\n",
    "    .withColumn('City', upper('City')) \\\n",
    "    .withColumn('City', \n",
    "                when(col('City').isin(['BRISBANE']), 'BN')\n",
    "                .when(col('City').isin(['DALY CITY']), 'DC')\n",
    "                .when(col('City').isin(['FORT MASON']), 'FM')\n",
    "                .when(col('City').isin(['HUNTERS POINT']), 'HP')\n",
    "                .when(col('City').isin(['PRESIDIO']), 'PR')\n",
    "                .when(col('City').isin(['SAN FRANCISCO', 'SFO']), 'SF')\n",
    "                .when(col('City').isin(['TREASURE ISLA', 'TREASURE ISLAND']), 'TI')\n",
    "                .when(col('City').isin(['YERBA BUENA']), 'YB')\n",
    "                .otherwise(col('City'))) \\\n",
    "    .na.fill(value='U Undetermined')\n",
    "\n",
    "fire_data_df_2.show(2)"
   ]
  },
  {
   "cell_type": "code",
   "execution_count": 19,
   "metadata": {},
   "outputs": [],
   "source": [
    "dimensions_columns = ['Primary Situation', 'Mutual Aid', 'Action Taken Primary', 'Action Taken Secondary', 'Action Taken Other', 'Detector Alerted Occupants', 'Property Use', 'Area of Fire Origin', 'Ignition Cause', \n",
    "                      'Ignition Factor Primary', 'Ignition Factor Secondary', 'Heat Source', 'Item First Ignited', 'Human Factors Associated with Ignition', 'Structure Type', 'Structure Status', \n",
    "                      'Fire Spread', 'Detectors Present', 'Detector Operation', 'Detector Effectiveness', 'Detector Failure Reason', 'Automatic Extinguishing System Present', \n",
    "                      'Automatic Extinguishing System Type', 'Automatic Extinguishing System Perfomance', 'Automatic Extinguishing System Failure Reason']"
   ]
  },
  {
   "cell_type": "code",
   "execution_count": 8,
   "metadata": {},
   "outputs": [
    {
     "name": "stdout",
     "output_type": "stream",
     "text": [
      "+---------------+---------------+---------+--------------------+-------------+-----------+--------------------+--------------------+--------------------+----+-------+---------+------------+----+-----------------+---------------------+---------+-------------+-----------+---------------+-------------------+-----------------------+-----------------------+---------------+-------------+-------------------+-----------------+----------------+--------------------+--------------+--------------------+----------------------+------------------+--------------------------+--------------------+-------------------+--------------+-----------------------+-------------------------+--------------+------------------+--------------------------------------+--------------+----------------+--------------------+--------------+---------------+------------------------------------+----------------------------------------+----------------------------------+------------------------------------+-----------------+------------------+----------------------+-----------------------+--------------------------------------+-----------------------------------+-------------------+---------------------+--------------------+--------------------+--------------------+-----------------------------------+-----------------------------------------+---------------------------------------------+\n",
      "|Incident Number|Exposure Number|       ID|             Address|Incident Date|Call Number|          Alarm DtTm|        Arrival DtTm|          Close DtTm|City|zipcode|Battalion|Station Area| Box|Suppression Units|Suppression Personnel|EMS Units|EMS Personnel|Other Units|Other Personnel|First Unit On Scene|Estimated Property Loss|Estimated Contents Loss|Fire Fatalities|Fire Injuries|Civilian Fatalities|Civilian Injuries|Number of Alarms|   Primary Situation|    Mutual Aid|Action Taken Primary|Action Taken Secondary|Action Taken Other|Detector Alerted Occupants|        Property Use|Area of Fire Origin|Ignition Cause|Ignition Factor Primary|Ignition Factor Secondary|   Heat Source|Item First Ignited|Human Factors Associated with Ignition|Structure Type|Structure Status|Floor of Fire Origin|   Fire Spread|No Flame Spread|Number of floors with minimum damage|Number of floors with significant damage|Number of floors with heavy damage|Number of floors with extreme damage|Detectors Present|Detector Operation|Detector Effectiveness|Detector Failure Reason|Automatic Extinguishing System Present|Number of Sprinkler Heads Operating|Supervisor District|neighborhood_district|               point|          data_as_of|      data_loaded_at|Automatic Extinguishing System Type|Automatic Extinguishing System Perfomance|Automatic Extinguishing System Failure Reason|\n",
      "+---------------+---------------+---------+--------------------+-------------+-----------+--------------------+--------------------+--------------------+----+-------+---------+------------+----+-----------------+---------------------+---------+-------------+-----------+---------------+-------------------+-----------------------+-----------------------+---------------+-------------+-------------------+-----------------+----------------+--------------------+--------------+--------------------+----------------------+------------------+--------------------------+--------------------+-------------------+--------------+-----------------------+-------------------------+--------------+------------------+--------------------------------------+--------------+----------------+--------------------+--------------+---------------+------------------------------------+----------------------------------------+----------------------------------+------------------------------------+-----------------+------------------+----------------------+-----------------------+--------------------------------------+-----------------------------------+-------------------+---------------------+--------------------+--------------------+--------------------+-----------------------------------+-----------------------------------------+---------------------------------------------+\n",
      "|       15063164|              0|150631640|   61 CONCORD STREET|   2015/06/14|  151652069|2015/06/14 03:41:...|2015/06/14 03:45:...|2015/06/14 03:55:...|  SF|  94112|      B09|          43|6221|                1|                    4|        0|            0|          0|              0|     U Undetermined|                    0.0|                    0.0|              0|            0|                  0|                0|               1|400 Hazardous con...|U Undetermined|      86 Investigate|        U Undetermined|    U Undetermined|            U Undetermined|400 Residential, ...|     U Undetermined|U Undetermined|         U Undetermined|           U Undetermined|U Undetermined|    U Undetermined|                        U Undetermined|U Undetermined|  U Undetermined|                NULL|U Undetermined|             NA|                                NULL|                                    NULL|                              NULL|                                NULL|   U Undetermined|    U Undetermined|        U Undetermined|         U Undetermined|                        U Undetermined|                               NULL|                 11|            Excelsior|POINT (-122.44276...|2015/06/14 03:55:...|2025/04/29 02:17:...|                     U Undetermined|                           U Undetermined|                               U Undetermined|\n",
      "|       15063172|              0|150631720|HYDE ST/ELLIS STREET|   2015/06/14|  151652108|2015/06/14 03:58:...|2015/06/14 04:01:...|2015/06/14 04:02:...|  SF|  94109|      B02|          03|1555|                2|                    9|        0|            0|          0|              0|     U Undetermined|                    0.0|                    0.0|              0|            0|                  0|                0|               1|700 False alarm o...|U Undetermined|80 Information, i...|        U Undetermined|    U Undetermined|            U Undetermined|      U Undetermined|     U Undetermined|U Undetermined|         U Undetermined|           U Undetermined|U Undetermined|    U Undetermined|                        U Undetermined|U Undetermined|  U Undetermined|                NULL|U Undetermined|             NA|                                NULL|                                    NULL|                              NULL|                                NULL|   U Undetermined|    U Undetermined|        U Undetermined|         U Undetermined|                        U Undetermined|                               NULL|                  5|           Tenderloin|POINT (-122.41607...|2015/06/14 04:02:...|2025/04/29 02:17:...|                     U Undetermined|                           U Undetermined|                               U Undetermined|\n",
      "|       15063173|              0|150631730|      425 1ST STREET|   2015/06/14|  151652113|2015/06/14 03:59:...|2015/06/14 04:04:...|2015/06/14 04:13:...|  SF|  94105|      B03|          35|2136|                3|                   10|        0|            0|          0|              0|     U Undetermined|                    0.0|                    0.0|              0|            0|                  0|                0|               1|745 Alarm system ...|U Undetermined|      86 Investigate|        U Undetermined|    U Undetermined|            U Undetermined|400 Residential, ...|     U Undetermined|U Undetermined|         U Undetermined|           U Undetermined|U Undetermined|    U Undetermined|                        U Undetermined|U Undetermined|  U Undetermined|                NULL|U Undetermined|             NA|                                NULL|                                    NULL|                              NULL|                                NULL|   U Undetermined|    U Undetermined|        U Undetermined|         U Undetermined|                        U Undetermined|                               NULL|                  6| Financial Distric...|POINT (-122.39267...|2015/06/14 04:13:...|2025/04/29 02:17:...|                     U Undetermined|                           U Undetermined|                               U Undetermined|\n",
      "|       15063187|              0|150631870|           924 MASON|   2015/06/14|  151652227|2015/06/14 04:26:...|2015/06/14 04:39:...|2015/06/14 04:48:...|  PR|  94129|      B99|          51|4613|                4|                   14|        0|            0|          0|              0|     U Undetermined|                    0.0|                    0.0|              0|            0|                  0|                0|               1|700 False alarm o...|U Undetermined|63 Restore fire a...|        U Undetermined|    U Undetermined|            U Undetermined|  549 Specialty shop|     U Undetermined|U Undetermined|         U Undetermined|           U Undetermined|U Undetermined|    U Undetermined|                        U Undetermined|U Undetermined|  U Undetermined|                NULL|U Undetermined|             NA|                                NULL|                                    NULL|                              NULL|                                NULL|   U Undetermined|    U Undetermined|        U Undetermined|         U Undetermined|                        U Undetermined|                               NULL|                  2|             Presidio|POINT (-122.46791...|2015/06/14 04:48:...|2025/04/29 02:17:...|                     U Undetermined|                           U Undetermined|                               U Undetermined|\n",
      "|       15063194|              0|150631940|  1049 HOWARD STREET|   2015/06/14|  151652321|2015/06/14 04:56:...|2015/06/14 05:00:...|2015/06/14 05:09:...|  SF|  94103|      B03|          01|2314|                3|                   10|        0|            0|          0|              0|     U Undetermined|                    0.0|                    0.0|              0|            0|                  0|                0|               1|735 Alarm system ...|U Undetermined|      86 Investigate|        U Undetermined|    U Undetermined|            U Undetermined|439 Boarding/room...|     U Undetermined|U Undetermined|         U Undetermined|           U Undetermined|U Undetermined|    U Undetermined|                        U Undetermined|U Undetermined|  U Undetermined|                NULL|U Undetermined|             NA|                                NULL|                                    NULL|                              NULL|                                NULL|   U Undetermined|    U Undetermined|        U Undetermined|         U Undetermined|                        U Undetermined|                               NULL|                  6|      South of Market|POINT (-122.40833...|2015/06/14 05:09:...|2025/04/29 02:17:...|                     U Undetermined|                           U Undetermined|                               U Undetermined|\n",
      "|       15063198|              0|150631980|     55 BROAD STREET|   2015/06/14|  151652382|2015/06/14 05:12:...|2015/06/14 05:17:...|2015/06/14 05:24:...|  SF|  94112|      B09|          33|8371|                3|                   11|        0|            0|          0|              0|     U Undetermined|                    0.0|                    0.0|              0|            0|                  0|                0|               1|745 Alarm system ...|U Undetermined|      86 Investigate|        U Undetermined|    U Undetermined|            U Undetermined|131 Church, mosqu...|     U Undetermined|U Undetermined|         U Undetermined|           U Undetermined|U Undetermined|    U Undetermined|                        U Undetermined|U Undetermined|  U Undetermined|                NULL|U Undetermined|             NA|                                NULL|                                    NULL|                              NULL|                                NULL|   U Undetermined|    U Undetermined|        U Undetermined|         U Undetermined|                        U Undetermined|                               NULL|                 11| Oceanview/Merced/...|POINT (-122.45487...|2015/06/14 05:24:...|2025/04/29 02:17:...|                     U Undetermined|                           U Undetermined|                               U Undetermined|\n",
      "|       15063199|              0|150631990|19TH AV/EUCALYPTU...|   2015/06/14|  151652393|2015/06/14 05:14:...|2015/06/14 05:25:...|2015/06/14 05:42:...|  SF|  94132|      B08|          19|8731|                1|                    4|        1|            2|          0|              0|     U Undetermined|                    0.0|                    0.0|              0|            0|                  0|                0|               1|324 Motor vehicle...|U Undetermined|31 Provide first ...|        U Undetermined|    U Undetermined|            U Undetermined|962 Residential s...|     U Undetermined|U Undetermined|         U Undetermined|           U Undetermined|U Undetermined|    U Undetermined|                        U Undetermined|U Undetermined|  U Undetermined|                NULL|U Undetermined|             NA|                                NULL|                                    NULL|                              NULL|                                NULL|   U Undetermined|    U Undetermined|        U Undetermined|         U Undetermined|                        U Undetermined|                               NULL|                  7|            Lakeshore|POINT (-122.47485...|2015/06/14 05:42:...|2025/04/29 02:17:...|                     U Undetermined|                           U Undetermined|                               U Undetermined|\n",
      "|       15063203|              0|150632030| 2160 OAKDALE AVENUE|   2015/06/14|  151652425|2015/06/14 05:25:...|2015/06/14 05:29:...|2015/06/14 05:30:...|  SF|  94124|      B10|          09|6377|                1|                    5|        0|            0|          0|              0|     U Undetermined|                    0.0|                    0.0|              0|            0|                  0|                0|               1|500 Service Call,...|U Undetermined|00 Action taken, ...|        U Undetermined|    U Undetermined|            U Undetermined|500 Mercantile, b...|     U Undetermined|U Undetermined|         U Undetermined|           U Undetermined|U Undetermined|    U Undetermined|                        U Undetermined|U Undetermined|  U Undetermined|                NULL|U Undetermined|             NA|                                NULL|                                    NULL|                              NULL|                                NULL|   U Undetermined|    U Undetermined|        U Undetermined|         U Undetermined|                        U Undetermined|                               NULL|                 10| Bayview Hunters P...|POINT (-122.40076...|2015/06/14 05:30:...|2025/04/29 02:17:...|                     U Undetermined|                           U Undetermined|                               U Undetermined|\n",
      "|       15063210|              0|150632100|     600 HYDE STREET|   2015/06/14|  151652474|2015/06/14 05:44:...|2015/06/14 05:46:...|2015/06/14 05:46:...|  SF|  94109|      B04|          03|1556|                2|                    9|        0|            0|          0|              0|     U Undetermined|                    0.0|                    0.0|              0|            0|                  0|                0|               1|711 Municipal ala...|U Undetermined|      86 Investigate|        U Undetermined|    U Undetermined|            U Undetermined|   960 Street, other|     U Undetermined|U Undetermined|         U Undetermined|           U Undetermined|U Undetermined|    U Undetermined|                        U Undetermined|U Undetermined|  U Undetermined|                NULL|U Undetermined|             NA|                                NULL|                                    NULL|                              NULL|                                NULL|   U Undetermined|    U Undetermined|        U Undetermined|         U Undetermined|                        U Undetermined|                               NULL|                  3|           Tenderloin|POINT (-122.41638...|2015/06/14 05:46:...|2025/04/29 02:17:...|                     U Undetermined|                           U Undetermined|                               U Undetermined|\n",
      "|       15063217|              0|150632170|GENEVA AV/MISSION...|   2015/06/14|  151652517|2015/06/14 05:57:...|2015/06/14 06:01:...|2015/06/14 06:02:...|  SF|  94112|      B09|          43|6175|                2|                    9|        0|            0|          0|              0|     U Undetermined|                    0.0|                    0.0|              0|            0|                  0|                0|               1|711 Municipal ala...|U Undetermined|      86 Investigate|        U Undetermined|    U Undetermined|            U Undetermined|519 Food and beve...|     U Undetermined|U Undetermined|         U Undetermined|           U Undetermined|U Undetermined|    U Undetermined|                        U Undetermined|U Undetermined|  U Undetermined|                NULL|U Undetermined|             NA|                                NULL|                                    NULL|                              NULL|                                NULL|   U Undetermined|    U Undetermined|        U Undetermined|         U Undetermined|                        U Undetermined|                               NULL|                 11|            Excelsior|POINT (-122.44101...|2015/06/14 06:02:...|2025/04/29 02:17:...|                     U Undetermined|                           U Undetermined|                               U Undetermined|\n",
      "|       15063219|              0|150632190|621-633 NATOMA ST...|   2015/06/14|  151652523|2015/06/14 05:57:...|2015/06/14 06:03:...|2015/06/14 06:05:...|  SF|  94103|      B03|          01|2314|                1|                    4|        0|            0|          0|              0|     U Undetermined|                    0.0|                    0.0|              0|            0|                  0|                0|               1|151 Outside rubbi...|U Undetermined|11 Extinguishment...|        U Undetermined|    U Undetermined|            U Undetermined|963 Street or roa...|     U Undetermined|U Undetermined|         U Undetermined|           U Undetermined|U Undetermined|    U Undetermined|                        U Undetermined|U Undetermined|  U Undetermined|                NULL|U Undetermined|             NA|                                NULL|                                    NULL|                              NULL|                                NULL|   U Undetermined|    U Undetermined|        U Undetermined|         U Undetermined|                        U Undetermined|                               NULL|                  6|      South of Market|POINT (-122.41036...|2015/06/14 06:05:...|2025/04/29 02:17:...|                     U Undetermined|                           U Undetermined|                               U Undetermined|\n",
      "|       15063221|              0|150632210|LARKIN ST/GROVE S...|   2015/06/14|  151652530|2015/06/14 05:59:...|2015/06/14 06:04:...|2015/06/14 06:38:...|  SF|  94102|      B02|          36|1646|                1|                    4|        0|            0|          0|              0|     U Undetermined|                    0.0|                    0.0|              0|            0|                  0|                0|               1|151 Outside rubbi...|U Undetermined|      86 Investigate|        U Undetermined|    U Undetermined|            U Undetermined|            592 Bank|     U Undetermined|U Undetermined|         U Undetermined|           U Undetermined|U Undetermined|    U Undetermined|                        U Undetermined|U Undetermined|  U Undetermined|                NULL|U Undetermined|             NA|                                NULL|                                    NULL|                              NULL|                                NULL|   U Undetermined|    U Undetermined|        U Undetermined|         U Undetermined|                        U Undetermined|                               NULL|                  5|           Tenderloin|POINT (-122.41658...|2015/06/14 06:38:...|2025/04/29 02:17:...|                     U Undetermined|                           U Undetermined|                               U Undetermined|\n",
      "|       15063226|              0|150632260|    1250 EDDY STREET|   2015/06/14|  151652622|2015/06/14 06:27:...|2015/06/14 06:32:...|2015/06/14 06:43:...|  SF|  94115|      B02|          05|3366|                3|                   10|        0|            0|          0|              0|     U Undetermined|                    0.0|                    0.0|              0|            0|                  0|                0|               1|700 False alarm o...|U Undetermined|63 Restore fire a...|        U Undetermined|    U Undetermined|            U Undetermined|419 1 or 2 family...|     U Undetermined|U Undetermined|         U Undetermined|           U Undetermined|U Undetermined|    U Undetermined|                        U Undetermined|U Undetermined|  U Undetermined|                NULL|U Undetermined|             NA|                                NULL|                                    NULL|                              NULL|                                NULL|   U Undetermined|    U Undetermined|        U Undetermined|         U Undetermined|                        U Undetermined|                               NULL|                  5|     Western Addition|POINT (-122.42825...|2015/06/14 06:43:...|2025/04/29 02:17:...|                     U Undetermined|                           U Undetermined|                               U Undetermined|\n",
      "|       15063230|              0|150632300|1990 THE EMBARCAD...|   2015/06/14|  151652643|2015/06/14 06:35:...|2015/06/14 06:41:...|2015/06/14 06:43:...|  SF|  94133|      B01|          28|0937|                4|                   15|        0|            0|          0|              0|     U Undetermined|                    0.0|                    0.0|              0|            0|                  0|                0|               1|500 Service Call,...|U Undetermined|60 Systems and se...|        U Undetermined|    U Undetermined|            U Undetermined|900 Outside or sp...|     U Undetermined|U Undetermined|         U Undetermined|           U Undetermined|U Undetermined|    U Undetermined|                        U Undetermined|U Undetermined|  U Undetermined|                NULL|U Undetermined|             NA|                                NULL|                                    NULL|                              NULL|                                NULL|   U Undetermined|    U Undetermined|        U Undetermined|         U Undetermined|                        U Undetermined|                               NULL|                  3|          North Beach|POINT (-122.40709...|2015/06/14 06:43:...|2025/04/29 02:17:...|                     U Undetermined|                           U Undetermined|                               U Undetermined|\n",
      "|       15063232|              0|150632320|    770 JERROLD AV H|   2015/06/14|  151652666|2015/06/14 06:42:...|2015/06/14 06:47:...|2015/06/14 07:27:...|  SF|  94124|      B10|          17|6713|                8|                   28|        1|            2|          1|              2|     U Undetermined|                    0.0|                    0.0|              0|            0|                  0|                0|               1|500 Service Call,...|U Undetermined|00 Action taken, ...|        U Undetermined|    U Undetermined|            U Undetermined|500 Mercantile, b...|     U Undetermined|U Undetermined|         U Undetermined|           U Undetermined|U Undetermined|    U Undetermined|                        U Undetermined|U Undetermined|  U Undetermined|                NULL|U Undetermined|             NA|                                NULL|                                    NULL|                              NULL|                                NULL|   U Undetermined|    U Undetermined|        U Undetermined|         U Undetermined|                        U Undetermined|                               NULL|                 10| Bayview Hunters P...|POINT (-122.37367...|2015/06/14 07:27:...|2025/04/29 02:17:...|                     U Undetermined|                           U Undetermined|                               U Undetermined|\n",
      "|       15063235|              0|150632350|  750 GONZALEZ DRIVE|   2015/06/14|  151652702|2015/06/14 06:51:...|2015/06/14 06:57:...|2015/06/14 07:16:...|  SF|  94132|      B08|          19|8482|                3|                   11|        0|            0|          0|              0|     U Undetermined|                    0.0|                    0.0|              0|            0|                  0|                0|               1|743 Smoke detecto...|U Undetermined|      86 Investigate|        U Undetermined|    U Undetermined|            U Undetermined|400 Residential, ...|     U Undetermined|U Undetermined|         U Undetermined|           U Undetermined|U Undetermined|    U Undetermined|                        U Undetermined|U Undetermined|  U Undetermined|                NULL|U Undetermined|             NA|                                NULL|                                    NULL|                              NULL|                                NULL|   U Undetermined|    U Undetermined|        U Undetermined|         U Undetermined|                        U Undetermined|                               NULL|                  7|            Lakeshore|POINT (-122.48059...|2015/06/14 07:16:...|2025/04/29 02:17:...|                     U Undetermined|                           U Undetermined|                               U Undetermined|\n",
      "|       15063237|              0|150632370|     405 HILL STREET|   2015/06/14|  151652716|2015/06/14 06:56:...|2015/06/14 07:01:...|2015/06/14 07:10:...|  SF|  94114|      B06|          11|5461|                1|                    4|        0|            0|          0|              0|     U Undetermined|                    0.0|                    0.0|              0|            0|                  0|                0|               1|240 Explosion (no...|U Undetermined|      86 Investigate|        U Undetermined|    U Undetermined|            U Undetermined|419 1 or 2 family...|     U Undetermined|U Undetermined|         U Undetermined|           U Undetermined|U Undetermined|    U Undetermined|                        U Undetermined|U Undetermined|  U Undetermined|                NULL|U Undetermined|             NA|                                NULL|                                    NULL|                              NULL|                                NULL|   U Undetermined|    U Undetermined|        U Undetermined|         U Undetermined|                        U Undetermined|                               NULL|                  8|           Noe Valley|POINT (-122.43020...|2015/06/14 07:10:...|2025/04/29 02:17:...|                     U Undetermined|                           U Undetermined|                               U Undetermined|\n",
      "|       15063242|              0|150632420|405 PARNASSUS AVENUE|   2015/06/14|  151652761|2015/06/14 07:12:...|2015/06/14 07:18:...|2015/06/14 08:32:...|  SF|  94117|      B05|          12|5155|                1|                    5|        0|            0|          0|              0|     U Undetermined|                    0.0|                    0.0|              0|            0|                  0|                0|               1|353 Removal of vi...|U Undetermined|23 Extricate, dis...|        U Undetermined|    U Undetermined|            U Undetermined|331 Hospital medi...|     U Undetermined|U Undetermined|         U Undetermined|           U Undetermined|U Undetermined|    U Undetermined|                        U Undetermined|U Undetermined|  U Undetermined|                NULL|U Undetermined|             NA|                                NULL|                                    NULL|                              NULL|                                NULL|   U Undetermined|    U Undetermined|        U Undetermined|         U Undetermined|                        U Undetermined|                               NULL|                  7|         Inner Sunset|POINT (-122.45676...|2015/06/14 08:32:...|2025/04/29 02:17:...|                     U Undetermined|                           U Undetermined|                               U Undetermined|\n",
      "|       15063245|              0|150632450|       90 7TH STREET|   2015/06/14|  151652799|2015/06/14 07:23:...|2015/06/14 07:29:...|2015/06/14 07:40:...|  SF|  94103|      B02|          01|2315|                3|                   11|        0|            0|          0|              0|     U Undetermined|                    0.0|                    0.0|              0|            0|                  0|                0|               1|733 Smoke detecto...|U Undetermined|      86 Investigate|  84 Refer to prope...|    U Undetermined|            U Undetermined|150 Public or gov...|     U Undetermined|U Undetermined|         U Undetermined|           U Undetermined|U Undetermined|    U Undetermined|                        U Undetermined|U Undetermined|  U Undetermined|                NULL|U Undetermined|             NA|                                NULL|                                    NULL|                              NULL|                                NULL|   U Undetermined|    U Undetermined|        U Undetermined|         U Undetermined|                        U Undetermined|                               NULL|                  6|      South of Market|POINT (-122.41115...|2015/06/14 07:40:...|2025/04/29 02:17:...|                     U Undetermined|                           U Undetermined|                               U Undetermined|\n",
      "|       15063255|              0|150632550|    4521 25TH STREET|   2015/06/14|  151652893|2015/06/14 07:56:...|2015/06/14 08:01:...|2015/06/14 08:04:...|  SF|  94114|      B06|          24|5542|                3|                   10|        0|            0|          0|              0|     U Undetermined|                    0.0|                    0.0|              0|            0|                  0|                0|               1|743 Smoke detecto...|U Undetermined|      86 Investigate|        U Undetermined|    U Undetermined|            U Undetermined|419 1 or 2 family...|     U Undetermined|U Undetermined|         U Undetermined|           U Undetermined|U Undetermined|    U Undetermined|                        U Undetermined|U Undetermined|  U Undetermined|                NULL|U Undetermined|             NA|                                NULL|                                    NULL|                              NULL|                                NULL|   U Undetermined|    U Undetermined|        U Undetermined|         U Undetermined|                        U Undetermined|                               NULL|                  8|           Noe Valley|POINT (-122.43965...|2015/06/14 08:04:...|2025/04/29 02:17:...|                     U Undetermined|                           U Undetermined|                               U Undetermined|\n",
      "+---------------+---------------+---------+--------------------+-------------+-----------+--------------------+--------------------+--------------------+----+-------+---------+------------+----+-----------------+---------------------+---------+-------------+-----------+---------------+-------------------+-----------------------+-----------------------+---------------+-------------+-------------------+-----------------+----------------+--------------------+--------------+--------------------+----------------------+------------------+--------------------------+--------------------+-------------------+--------------+-----------------------+-------------------------+--------------+------------------+--------------------------------------+--------------+----------------+--------------------+--------------+---------------+------------------------------------+----------------------------------------+----------------------------------+------------------------------------+-----------------+------------------+----------------------+-----------------------+--------------------------------------+-----------------------------------+-------------------+---------------------+--------------------+--------------------+--------------------+-----------------------------------+-----------------------------------------+---------------------------------------------+\n",
      "only showing top 20 rows\n",
      "\n"
     ]
    }
   ],
   "source": [
    "fire_data_df_2.show()"
   ]
  },
  {
   "cell_type": "code",
   "execution_count": 23,
   "metadata": {},
   "outputs": [
    {
     "name": "stderr",
     "output_type": "stream",
     "text": [
      "[Stage 304:==============>                                          (2 + 6) / 8]\r"
     ]
    },
    {
     "name": "stdout",
     "output_type": "stream",
     "text": [
      "+-------------------+------+\n",
      "|First Unit On Scene|count |\n",
      "+-------------------+------+\n",
      "|51                 |5     |\n",
      "|52                 |4     |\n",
      "|53                 |3     |\n",
      "|54                 |158   |\n",
      "|55                 |135   |\n",
      "|56                 |46    |\n",
      "|57                 |85    |\n",
      "|58                 |117   |\n",
      "|59                 |94    |\n",
      "|60                 |40    |\n",
      "|61                 |47    |\n",
      "|62                 |62    |\n",
      "|63                 |74    |\n",
      "|64                 |91    |\n",
      "|65                 |110   |\n",
      "|66                 |205   |\n",
      "|67                 |175   |\n",
      "|68                 |141   |\n",
      "|71                 |86    |\n",
      "|72                 |175   |\n",
      "|73                 |92    |\n",
      "|74                 |78    |\n",
      "|75                 |162   |\n",
      "|76                 |82    |\n",
      "|77                 |186   |\n",
      "|78                 |173   |\n",
      "|79                 |182   |\n",
      "|81                 |226   |\n",
      "|82                 |241   |\n",
      "|83                 |240   |\n",
      "|84                 |200   |\n",
      "|85                 |215   |\n",
      "|86                 |207   |\n",
      "|87                 |222   |\n",
      "|88                 |239   |\n",
      "|89                 |236   |\n",
      "|91                 |77    |\n",
      "|92                 |221   |\n",
      "|93                 |250   |\n",
      "|94                 |215   |\n",
      "|95                 |68    |\n",
      "|96                 |194   |\n",
      "|98                 |1     |\n",
      "|99                 |85    |\n",
      "|AP                 |7192  |\n",
      "|AR1                |188   |\n",
      "|B01                |3818  |\n",
      "|B02                |5385  |\n",
      "|B03                |2988  |\n",
      "|B04                |2249  |\n",
      "|B05                |111   |\n",
      "|B06                |1494  |\n",
      "|B07                |1497  |\n",
      "|B08                |1220  |\n",
      "|B09                |1215  |\n",
      "|B10                |1332  |\n",
      "|B11                |33    |\n",
      "|BE1                |7     |\n",
      "|CC                 |2     |\n",
      "|CD1                |2     |\n",
      "|CD2                |7     |\n",
      "|CO2                |2     |\n",
      "|CR1                |20    |\n",
      "|D2                 |363   |\n",
      "|D3                 |240   |\n",
      "|E01                |15910 |\n",
      "|E02                |5009  |\n",
      "|E03                |16716 |\n",
      "|E05                |7962  |\n",
      "|E06                |7635  |\n",
      "|E07                |9240  |\n",
      "|E08                |7322  |\n",
      "|E09                |3691  |\n",
      "|E10                |5441  |\n",
      "|E11                |5251  |\n",
      "|E12                |4151  |\n",
      "|E13                |9915  |\n",
      "|E14                |3075  |\n",
      "|E15                |4700  |\n",
      "|E16                |6217  |\n",
      "|E17                |6663  |\n",
      "|E18                |3344  |\n",
      "|E19                |4448  |\n",
      "|E2                 |1     |\n",
      "|E20                |1654  |\n",
      "|E21                |6586  |\n",
      "|E22                |4088  |\n",
      "|E23                |3252  |\n",
      "|E24                |2152  |\n",
      "|E25                |4057  |\n",
      "|E26                |2390  |\n",
      "|E28                |6577  |\n",
      "|E29                |5176  |\n",
      "|E31                |4783  |\n",
      "|E32                |4937  |\n",
      "|E33                |4509  |\n",
      "|E34                |3321  |\n",
      "|E35                |3536  |\n",
      "|E36                |12153 |\n",
      "|E37                |3631  |\n",
      "|E38                |5772  |\n",
      "|E39                |2736  |\n",
      "|E40                |2636  |\n",
      "|E41                |7320  |\n",
      "|E42                |4276  |\n",
      "|E43                |5574  |\n",
      "|E44                |4477  |\n",
      "|E47                |96    |\n",
      "|E48                |1040  |\n",
      "|E51                |762   |\n",
      "|EMS6               |25    |\n",
      "|FB1                |63    |\n",
      "|FB2                |1     |\n",
      "|HT48               |85    |\n",
      "|HZ1                |7     |\n",
      "|M01                |150   |\n",
      "|M02                |8     |\n",
      "|M03                |144   |\n",
      "|M05                |109   |\n",
      "|M06                |10    |\n",
      "|M07                |128   |\n",
      "|M08                |112   |\n",
      "|M09                |42    |\n",
      "|M10                |78    |\n",
      "|M11                |29    |\n",
      "|M12                |98    |\n",
      "|M13                |109   |\n",
      "|M14                |231   |\n",
      "|M15                |148   |\n",
      "|M17                |223   |\n",
      "|M18                |175   |\n",
      "|M19                |93    |\n",
      "|M21                |31    |\n",
      "|M22                |94    |\n",
      "|M28                |87    |\n",
      "|M29                |108   |\n",
      "|M32                |111   |\n",
      "|M35                |1     |\n",
      "|M36                |105   |\n",
      "|M38                |137   |\n",
      "|M39                |44    |\n",
      "|M41                |80    |\n",
      "|M43                |153   |\n",
      "|M48                |2     |\n",
      "|M51                |23    |\n",
      "|MA1                |4     |\n",
      "|MP25               |3     |\n",
      "|MP32               |3     |\n",
      "|MP44               |1     |\n",
      "|OES                |1     |\n",
      "|OES248             |1     |\n",
      "|OTH                |92    |\n",
      "|PC1                |1     |\n",
      "|RA48               |16    |\n",
      "|RC1                |418   |\n",
      "|RC2                |303   |\n",
      "|RC3                |357   |\n",
      "|RC4                |139   |\n",
      "|RC5                |1     |\n",
      "|RS1                |780   |\n",
      "|RS2                |895   |\n",
      "|SO1                |9     |\n",
      "|SR1                |2     |\n",
      "|T01                |7047  |\n",
      "|T02                |2577  |\n",
      "|T03                |8306  |\n",
      "|T05                |3950  |\n",
      "|T06                |2775  |\n",
      "|T07                |3244  |\n",
      "|T08                |2251  |\n",
      "|T09                |1439  |\n",
      "|T10                |2594  |\n",
      "|T11                |1928  |\n",
      "|T12                |1967  |\n",
      "|T13                |3588  |\n",
      "|T14                |1646  |\n",
      "|T15                |2606  |\n",
      "|T16                |2542  |\n",
      "|T17                |2115  |\n",
      "|T18                |1365  |\n",
      "|T19                |2019  |\n",
      "|T48                |294   |\n",
      "|T51                |2     |\n",
      "|TCA11              |1     |\n",
      "|U Undetermined     |372463|\n",
      "|UU1                |6     |\n",
      "+-------------------+------+\n",
      "\n"
     ]
    },
    {
     "name": "stderr",
     "output_type": "stream",
     "text": [
      "                                                                                \r"
     ]
    }
   ],
   "source": [
    "analye_col = 'First Unit On Scene'\n",
    "fire_data_df_2.groupBy(analye_col).count().orderBy(analye_col).show(1000, truncate=False)"
   ]
  },
  {
   "cell_type": "code",
   "execution_count": 10,
   "metadata": {},
   "outputs": [],
   "source": [
    "def split_property_column(df, column_name):\n",
    "    id_column = f\"id\"\n",
    "\n",
    "    df_result = df.select(column_name).distinct().orderBy(column_name) \\\n",
    "                  .withColumn(id_column, regexp_extract(col(column_name), r'^([^\\s]+)', 1)) \\\n",
    "                  .withColumn(\"description\", regexp_extract(col(column_name), r'^[^\\s]+\\s+(.*)', 1)) \\\n",
    "                  .select(id_column, \"description\")\n",
    "\n",
    "    return df_result"
   ]
  },
  {
   "cell_type": "code",
   "execution_count": 12,
   "metadata": {},
   "outputs": [
    {
     "name": "stderr",
     "output_type": "stream",
     "text": [
      "[Stage 11:>                                                         (0 + 8) / 8]\r"
     ]
    },
    {
     "name": "stdout",
     "output_type": "stream",
     "text": [
      "+----+--------------------+\n",
      "|  id|         description|\n",
      "+----+--------------------+\n",
      "| 000| Property Use, other|\n",
      "|0000|     Tent/Encampment|\n",
      "| 100|     Assembly, other|\n",
      "| 110|Fixed use recreat...|\n",
      "| 111|Bowling establish...|\n",
      "| 112|Billiard center, ...|\n",
      "| 113|Electronic amusem...|\n",
      "| 114|Ice rink: indoor,...|\n",
      "| 115|Roller rink: indo...|\n",
      "| 116|Swimming facility...|\n",
      "| 120|Variable use amus...|\n",
      "| 121| Ballroom, gymnasium|\n",
      "| 122|Convention center...|\n",
      "| 123|      Stadium, arena|\n",
      "| 124|          Playground|\n",
      "| 129|Amusement center:...|\n",
      "| 130|Places of worship...|\n",
      "| 131|Church, mosque, s...|\n",
      "| 134|      Funeral parlor|\n",
      "| 140|        Clubs, other|\n",
      "+----+--------------------+\n",
      "only showing top 20 rows\n",
      "\n"
     ]
    },
    {
     "name": "stderr",
     "output_type": "stream",
     "text": [
      "                                                                                \r"
     ]
    }
   ],
   "source": [
    "df_col = split_property_column(fire_data_df_2.select('Property Use'), 'Property Use')\n",
    "df_col.show()"
   ]
  },
  {
   "cell_type": "code",
   "execution_count": 20,
   "metadata": {},
   "outputs": [],
   "source": [
    "def create_table_mysql(table_name):\n",
    "    table_name = table_name.replace(' ', '_').lower()+'_dimension'\n",
    "    create_table_query = f\"\"\"\n",
    "    CREATE TABLE IF NOT EXISTS {table_name} (\n",
    "        id VARCHAR(5),\n",
    "        description VARCHAR(255),\n",
    "        PRIMARY KEY (id)\n",
    "    );\n",
    "    \"\"\"\n",
    "    conexion = mysql.connector.connect(\n",
    "    host=\"localhost\", \n",
    "    user = 'root',\n",
    "    password = 'q1w2e3r4',\n",
    "    database=\"tn\"\n",
    "    )\n",
    "    cursor = conexion.cursor()\n",
    "    cursor.execute(create_table_query)\n",
    "    conexion.commit()\n",
    "    print(f\"Tabla {table_name} creada exitosamente.\")"
   ]
  },
  {
   "cell_type": "code",
   "execution_count": 21,
   "metadata": {},
   "outputs": [
    {
     "name": "stdout",
     "output_type": "stream",
     "text": [
      "Tabla primary_situation_dimension creada exitosamente.\n",
      "Tabla mutual_aid_dimension creada exitosamente.\n",
      "Tabla action_taken_primary_dimension creada exitosamente.\n",
      "Tabla action_taken_secondary_dimension creada exitosamente.\n",
      "Tabla action_taken_other_dimension creada exitosamente.\n",
      "Tabla detector_alerted_occupants_dimension creada exitosamente.\n",
      "Tabla property_use_dimension creada exitosamente.\n",
      "Tabla area_of_fire_origin_dimension creada exitosamente.\n",
      "Tabla ignition_cause_dimension creada exitosamente.\n",
      "Tabla ignition_factor_primary_dimension creada exitosamente.\n",
      "Tabla ignition_factor_secondary_dimension creada exitosamente.\n",
      "Tabla heat_source_dimension creada exitosamente.\n",
      "Tabla item_first_ignited_dimension creada exitosamente.\n",
      "Tabla human_factors_associated_with_ignition_dimension creada exitosamente.\n",
      "Tabla structure_type_dimension creada exitosamente.\n",
      "Tabla structure_status_dimension creada exitosamente.\n",
      "Tabla fire_spread_dimension creada exitosamente.\n",
      "Tabla detectors_present_dimension creada exitosamente.\n",
      "Tabla detector_operation_dimension creada exitosamente.\n",
      "Tabla detector_effectiveness_dimension creada exitosamente.\n",
      "Tabla detector_failure_reason_dimension creada exitosamente.\n",
      "Tabla automatic_extinguishing_system_present_dimension creada exitosamente.\n",
      "Tabla automatic_extinguishing_system_type_dimension creada exitosamente.\n",
      "Tabla automatic_extinguishing_system_perfomance_dimension creada exitosamente.\n",
      "Tabla automatic_extinguishing_system_failure_reason_dimension creada exitosamente.\n"
     ]
    }
   ],
   "source": [
    "for col in dimensions_columns:\n",
    "    create_table_mysql(col)"
   ]
  },
  {
   "cell_type": "code",
   "execution_count": 13,
   "metadata": {},
   "outputs": [],
   "source": [
    "def insert_into_mysql(df, table_name, mysql_url, user, password, mode='append'):\n",
    "    df.write \\\n",
    "      .format(\"jdbc\") \\\n",
    "      .option(\"url\", mysql_url) \\\n",
    "      .option(\"driver\", \"com.mysql.cj.jdbc.Driver\") \\\n",
    "      .option(\"dbtable\", table_name) \\\n",
    "      .option(\"user\", user) \\\n",
    "      .option(\"password\", password) \\\n",
    "      .mode(mode) \\\n",
    "      .save()"
   ]
  },
  {
   "cell_type": "code",
   "execution_count": 17,
   "metadata": {},
   "outputs": [
    {
     "name": "stdout",
     "output_type": "stream",
     "text": [
      "Primary Situation\n"
     ]
    },
    {
     "name": "stderr",
     "output_type": "stream",
     "text": [
      "                                                                                \r"
     ]
    },
    {
     "name": "stdout",
     "output_type": "stream",
     "text": [
      "Datos insertados en la tabla primary_situation_dimension exitosamente.\n",
      "Mutual Aid\n",
      "Datos insertados en la tabla mutual_aid_dimension exitosamente.\n",
      "Action Taken Primary\n"
     ]
    },
    {
     "name": "stderr",
     "output_type": "stream",
     "text": [
      "                                                                                \r"
     ]
    },
    {
     "name": "stdout",
     "output_type": "stream",
     "text": [
      "Datos insertados en la tabla action_taken_primary_dimension exitosamente.\n",
      "Action Taken Secondary\n",
      "Datos insertados en la tabla action_taken_secondary_dimension exitosamente.\n",
      "Action Taken Other\n",
      "Datos insertados en la tabla action_taken_other_dimension exitosamente.\n",
      "Detector Alerted Occupants\n",
      "Datos insertados en la tabla detector_alerted_occupants_dimension exitosamente.\n",
      "Property Use\n"
     ]
    },
    {
     "name": "stderr",
     "output_type": "stream",
     "text": [
      "                                                                                \r"
     ]
    },
    {
     "name": "stdout",
     "output_type": "stream",
     "text": [
      "Datos insertados en la tabla property_use_dimension exitosamente.\n",
      "Area of Fire Origin\n"
     ]
    },
    {
     "name": "stderr",
     "output_type": "stream",
     "text": [
      "                                                                                \r"
     ]
    },
    {
     "name": "stdout",
     "output_type": "stream",
     "text": [
      "Datos insertados en la tabla area_of_fire_origin_dimension exitosamente.\n",
      "Ignition Cause\n",
      "Datos insertados en la tabla ignition_cause_dimension exitosamente.\n",
      "Ignition Factor Primary\n"
     ]
    },
    {
     "name": "stderr",
     "output_type": "stream",
     "text": [
      "                                                                                \r"
     ]
    },
    {
     "name": "stdout",
     "output_type": "stream",
     "text": [
      "Datos insertados en la tabla ignition_factor_primary_dimension exitosamente.\n",
      "Ignition Factor Secondary\n",
      "Datos insertados en la tabla ignition_factor_secondary_dimension exitosamente.\n",
      "Heat Source\n"
     ]
    },
    {
     "name": "stderr",
     "output_type": "stream",
     "text": [
      "                                                                                \r"
     ]
    },
    {
     "name": "stdout",
     "output_type": "stream",
     "text": [
      "Datos insertados en la tabla heat_source_dimension exitosamente.\n",
      "Item First Ignited\n"
     ]
    },
    {
     "name": "stderr",
     "output_type": "stream",
     "text": [
      "                                                                                \r"
     ]
    },
    {
     "name": "stdout",
     "output_type": "stream",
     "text": [
      "Datos insertados en la tabla item_first_ignited_dimension exitosamente.\n",
      "Human Factors Associated with Ignition\n"
     ]
    },
    {
     "name": "stderr",
     "output_type": "stream",
     "text": [
      "                                                                                \r"
     ]
    },
    {
     "name": "stdout",
     "output_type": "stream",
     "text": [
      "Datos insertados en la tabla human_factors_associated_with_ignition_dimension exitosamente.\n",
      "Structure Type\n",
      "Datos insertados en la tabla structure_type_dimension exitosamente.\n",
      "Structure Status\n",
      "Datos insertados en la tabla structure_status_dimension exitosamente.\n",
      "Fire Spread\n",
      "Datos insertados en la tabla fire_spread_dimension exitosamente.\n",
      "Detectors Present\n"
     ]
    },
    {
     "name": "stderr",
     "output_type": "stream",
     "text": [
      "                                                                                \r"
     ]
    },
    {
     "name": "stdout",
     "output_type": "stream",
     "text": [
      "Datos insertados en la tabla detectors_present_dimension exitosamente.\n",
      "Detector Operation\n",
      "Datos insertados en la tabla detector_operation_dimension exitosamente.\n",
      "Detector Effectiveness\n",
      "Datos insertados en la tabla detector_effectiveness_dimension exitosamente.\n",
      "Detector Failure Reason\n",
      "Datos insertados en la tabla detector_failure_reason_dimension exitosamente.\n",
      "Automatic Extinguishing System Present\n",
      "Datos insertados en la tabla automatic_extinguishing_system_present_dimension exitosamente.\n",
      "Automatic Extinguishing System Type\n",
      "Datos insertados en la tabla automatic_extinguishing_system_type_dimension exitosamente.\n",
      "Automatic Extinguishing System Perfomance\n"
     ]
    },
    {
     "name": "stderr",
     "output_type": "stream",
     "text": [
      "                                                                                \r"
     ]
    },
    {
     "name": "stdout",
     "output_type": "stream",
     "text": [
      "Datos insertados en la tabla automatic_extinguishing_system_perfomance_dimension exitosamente.\n",
      "Automatic Extinguishing System Failure Reason\n",
      "Datos insertados en la tabla automatic_extinguishing_system_failure_reason_dimension exitosamente.\n"
     ]
    }
   ],
   "source": [
    "for col_name in dimensions_columns:\n",
    "    df_insert = split_property_column(fire_data_df_2.select(col_name), col_name)\n",
    "    print(col_name)\n",
    "    \n",
    "    insert_into_mysql(\n",
    "        df=df_insert,\n",
    "        table_name=col_name.replace(' ', '_').lower()+'_dimension',\n",
    "        mysql_url=\"jdbc:mysql://localhost:3306/tn\",\n",
    "        user=\"root\",\n",
    "        password=\"q1w2e3r4\",\n",
    "        mode=\"overwrite\"\n",
    "    )\n",
    "    print(f\"Datos insertados en la tabla {col_name.replace(' ', '_').lower()+'_dimension'} exitosamente.\")"
   ]
  },
  {
   "cell_type": "code",
   "execution_count": null,
   "metadata": {},
   "outputs": [
    {
     "name": "stderr",
     "output_type": "stream",
     "text": [
      "[Stage 307:===================================>                     (5 + 3) / 8]\r"
     ]
    },
    {
     "name": "stdout",
     "output_type": "stream",
     "text": [
      "Datos insertados en la tabla fire_incidents_desnormalized\n"
     ]
    },
    {
     "name": "stderr",
     "output_type": "stream",
     "text": [
      "                                                                                \r"
     ]
    }
   ],
   "source": [
    "insert_into_mysql(\n",
    "    df=fire_data_df_2,\n",
    "    table_name='fire_incidents_desnormalized',\n",
    "    mysql_url=\"jdbc:mysql://localhost:3306/tn\",\n",
    "    user=\"root\",\n",
    "    password=\"q1w2e3r4\",\n",
    "    mode=\"overwrite\"\n",
    ")\n",
    "print(f\"Datos insertados en la tabla fire_incidents_desnormalized\")"
   ]
  },
  {
   "cell_type": "code",
   "execution_count": 18,
   "metadata": {},
   "outputs": [
    {
     "name": "stdout",
     "output_type": "stream",
     "text": [
      "Tabla primary_situation_dimension eliminada exitosamente.\n",
      "Tabla primary_situation_dimension eliminada exitosamente.\n",
      "Tabla mutual_aid_dimension eliminada exitosamente.\n",
      "Tabla mutual_aid_dimension eliminada exitosamente.\n",
      "Tabla action_taken_primary_dimension eliminada exitosamente.\n",
      "Tabla action_taken_primary_dimension eliminada exitosamente.\n",
      "Tabla action_taken_secondary_dimension eliminada exitosamente.\n",
      "Tabla action_taken_secondary_dimension eliminada exitosamente.\n",
      "Tabla action_taken_other_dimension eliminada exitosamente.\n",
      "Tabla action_taken_other_dimension eliminada exitosamente.\n",
      "Tabla detector_alerted_occupants_dimension eliminada exitosamente.\n",
      "Tabla detector_alerted_occupants_dimension eliminada exitosamente.\n",
      "Tabla property_use_dimension eliminada exitosamente.\n",
      "Tabla property_use_dimension eliminada exitosamente.\n",
      "Tabla area_of_fire_origin_dimension eliminada exitosamente.\n",
      "Tabla area_of_fire_origin_dimension eliminada exitosamente.\n",
      "Tabla ignition_cause_dimension eliminada exitosamente.\n",
      "Tabla ignition_cause_dimension eliminada exitosamente.\n",
      "Tabla ignition_factor_primary_dimension eliminada exitosamente.\n",
      "Tabla ignition_factor_primary_dimension eliminada exitosamente.\n",
      "Tabla ignition_factor_secondary_dimension eliminada exitosamente.\n",
      "Tabla ignition_factor_secondary_dimension eliminada exitosamente.\n",
      "Tabla heat_source_dimension eliminada exitosamente.\n",
      "Tabla heat_source_dimension eliminada exitosamente.\n",
      "Tabla item_first_ignited_dimension eliminada exitosamente.\n",
      "Tabla item_first_ignited_dimension eliminada exitosamente.\n",
      "Tabla human_factors_associated_with_ignition_dimension eliminada exitosamente.\n",
      "Tabla human_factors_associated_with_ignition_dimension eliminada exitosamente.\n",
      "Tabla structure_type_dimension eliminada exitosamente.\n",
      "Tabla structure_type_dimension eliminada exitosamente.\n",
      "Tabla structure_status_dimension eliminada exitosamente.\n",
      "Tabla structure_status_dimension eliminada exitosamente.\n",
      "Tabla fire_spread_dimension eliminada exitosamente.\n",
      "Tabla fire_spread_dimension eliminada exitosamente.\n",
      "Tabla detectors_present_dimension eliminada exitosamente.\n",
      "Tabla detectors_present_dimension eliminada exitosamente.\n",
      "Tabla detector_operation_dimension eliminada exitosamente.\n",
      "Tabla detector_operation_dimension eliminada exitosamente.\n",
      "Tabla detector_effectiveness_dimension eliminada exitosamente.\n",
      "Tabla detector_effectiveness_dimension eliminada exitosamente.\n",
      "Tabla detector_failure_reason_dimension eliminada exitosamente.\n",
      "Tabla detector_failure_reason_dimension eliminada exitosamente.\n",
      "Tabla automatic_extinguishing_system_present_dimension eliminada exitosamente.\n",
      "Tabla automatic_extinguishing_system_present_dimension eliminada exitosamente.\n",
      "Tabla automatic_extinguishing_system_type_dimension eliminada exitosamente.\n",
      "Tabla automatic_extinguishing_system_type_dimension eliminada exitosamente.\n",
      "Tabla automatic_extinguishing_system_perfomance_dimension eliminada exitosamente.\n",
      "Tabla automatic_extinguishing_system_perfomance_dimension eliminada exitosamente.\n",
      "Tabla automatic_extinguishing_system_failure_reason_dimension eliminada exitosamente.\n",
      "Tabla automatic_extinguishing_system_failure_reason_dimension eliminada exitosamente.\n"
     ]
    }
   ],
   "source": [
    "def drop_table_mysql(table_name):\n",
    "    table_name = table_name.replace(' ', '_').lower()+'_dimension'\n",
    "    drop_table_query = f\"DROP TABLE IF EXISTS {table_name};\"\n",
    "    conexion = mysql.connector.connect(\n",
    "    host=\"localhost\", \n",
    "    user = 'root',\n",
    "    password = 'q1w2e3r4',\n",
    "    database=\"tn\"\n",
    "    )\n",
    "    cursor = conexion.cursor()\n",
    "    cursor.execute(drop_table_query)\n",
    "    conexion.commit()\n",
    "    print(f\"Tabla {table_name} eliminada exitosamente.\")\n",
    "\n",
    "for col in dimensions_columns:\n",
    "    drop_table_mysql(col)\n",
    "    print(f\"Tabla {col.replace(' ', '_').lower()+'_dimension'} eliminada exitosamente.\")"
   ]
  },
  {
   "cell_type": "code",
   "execution_count": 167,
   "metadata": {},
   "outputs": [
    {
     "name": "stdout",
     "output_type": "stream",
     "text": [
      "+---------+\n",
      "|Battalion|\n",
      "+---------+\n",
      "|      B05|\n",
      "|      B01|\n",
      "|      B99|\n",
      "|      B06|\n",
      "|      B07|\n",
      "|      B02|\n",
      "|      B09|\n",
      "|      B10|\n",
      "|      B04|\n",
      "|      B03|\n",
      "|      B08|\n",
      "+---------+\n",
      "\n"
     ]
    }
   ],
   "source": [
    "fire_data_df.select('Battalion').distinct().show()"
   ]
  },
  {
   "cell_type": "code",
   "execution_count": 50,
   "metadata": {},
   "outputs": [
    {
     "name": "stdout",
     "output_type": "stream",
     "text": [
      "+------------------------------+\n",
      "|neighborhood_district         |\n",
      "+------------------------------+\n",
      "|Bayview Hunters Point         |\n",
      "|Bernal Heights                |\n",
      "|Castro/Upper Market           |\n",
      "|Chinatown                     |\n",
      "|Excelsior                     |\n",
      "|Financial District/South Beach|\n",
      "|Glen Park                     |\n",
      "|Golden Gate Park              |\n",
      "|Haight Ashbury                |\n",
      "|Hayes Valley                  |\n",
      "|Inner Richmond                |\n",
      "|Inner Sunset                  |\n",
      "|Japantown                     |\n",
      "|Lakeshore                     |\n",
      "|Lincoln Park                  |\n",
      "|Lone Mountain/USF             |\n",
      "|Marina                        |\n",
      "|McLaren Park                  |\n",
      "|Mission                       |\n",
      "|Mission Bay                   |\n",
      "+------------------------------+\n",
      "only showing top 20 rows\n",
      "\n"
     ]
    },
    {
     "name": "stderr",
     "output_type": "stream",
     "text": [
      "                                                                                \r"
     ]
    }
   ],
   "source": [
    "fire_data_df.select('neighborhood_district').distinct().orderBy('neighborhood_district').show(truncate=False)"
   ]
  },
  {
   "cell_type": "code",
   "execution_count": 14,
   "metadata": {},
   "outputs": [
    {
     "name": "stderr",
     "output_type": "stream",
     "text": [
      "25/04/29 14:23:47 WARN MemoryManager: Total allocation exceeds 95.00% (1,020,054,720 bytes) of heap memory\n",
      "Scaling row group sizes to 95.00% for 8 writers\n",
      "ERROR:root:KeyboardInterrupt while sending command.                 (0 + 8) / 8]\n",
      "Traceback (most recent call last):\n",
      "  File \"/Users/diego.mosquera/Library/Python/3.9/lib/python/site-packages/py4j/java_gateway.py\", line 1038, in send_command\n",
      "    response = connection.send_command(command)\n",
      "  File \"/Users/diego.mosquera/Library/Python/3.9/lib/python/site-packages/py4j/clientserver.py\", line 511, in send_command\n",
      "    answer = smart_decode(self.stream.readline()[:-1])\n",
      "  File \"/Library/Developer/CommandLineTools/Library/Frameworks/Python3.framework/Versions/3.9/lib/python3.9/socket.py\", line 704, in readinto\n",
      "    return self._sock.recv_into(b)\n",
      "KeyboardInterrupt\n"
     ]
    },
    {
     "ename": "KeyboardInterrupt",
     "evalue": "",
     "output_type": "error",
     "traceback": [
      "\u001b[0;31m---------------------------------------------------------------------------\u001b[0m",
      "\u001b[0;31mKeyboardInterrupt\u001b[0m                         Traceback (most recent call last)",
      "Cell \u001b[0;32mIn[14], line 1\u001b[0m\n\u001b[0;32m----> 1\u001b[0m \u001b[43mfire_data_df\u001b[49m\u001b[38;5;241;43m.\u001b[39;49m\u001b[43mwrite\u001b[49m\u001b[38;5;241;43m.\u001b[39;49m\u001b[43mpartitionBy\u001b[49m\u001b[43m(\u001b[49m\u001b[38;5;124;43m'\u001b[39;49m\u001b[38;5;124;43mIncident Date\u001b[39;49m\u001b[38;5;124;43m'\u001b[39;49m\u001b[43m,\u001b[49m\u001b[43m \u001b[49m\u001b[38;5;124;43m'\u001b[39;49m\u001b[38;5;124;43mneighborhood_district\u001b[39;49m\u001b[38;5;124;43m'\u001b[39;49m\u001b[43m,\u001b[49m\u001b[43m \u001b[49m\u001b[38;5;124;43m'\u001b[39;49m\u001b[38;5;124;43mBattalion\u001b[39;49m\u001b[38;5;124;43m'\u001b[39;49m\u001b[43m)\u001b[49m\u001b[38;5;241;43m.\u001b[39;49m\u001b[43mparquet\u001b[49m\u001b[43m(\u001b[49m\u001b[38;5;124;43m'\u001b[39;49m\u001b[38;5;124;43mfire_data_final.parquet\u001b[39;49m\u001b[38;5;124;43m'\u001b[39;49m\u001b[43m,\u001b[49m\u001b[43m \u001b[49m\u001b[43mmode\u001b[49m\u001b[38;5;241;43m=\u001b[39;49m\u001b[38;5;124;43m'\u001b[39;49m\u001b[38;5;124;43moverwrite\u001b[39;49m\u001b[38;5;124;43m'\u001b[39;49m\u001b[43m)\u001b[49m\n",
      "File \u001b[0;32m~/Library/Python/3.9/lib/python/site-packages/pyspark/sql/readwriter.py:1721\u001b[0m, in \u001b[0;36mDataFrameWriter.parquet\u001b[0;34m(self, path, mode, partitionBy, compression)\u001b[0m\n\u001b[1;32m   1719\u001b[0m     \u001b[38;5;28mself\u001b[39m\u001b[38;5;241m.\u001b[39mpartitionBy(partitionBy)\n\u001b[1;32m   1720\u001b[0m \u001b[38;5;28mself\u001b[39m\u001b[38;5;241m.\u001b[39m_set_opts(compression\u001b[38;5;241m=\u001b[39mcompression)\n\u001b[0;32m-> 1721\u001b[0m \u001b[38;5;28;43mself\u001b[39;49m\u001b[38;5;241;43m.\u001b[39;49m\u001b[43m_jwrite\u001b[49m\u001b[38;5;241;43m.\u001b[39;49m\u001b[43mparquet\u001b[49m\u001b[43m(\u001b[49m\u001b[43mpath\u001b[49m\u001b[43m)\u001b[49m\n",
      "File \u001b[0;32m~/Library/Python/3.9/lib/python/site-packages/py4j/java_gateway.py:1321\u001b[0m, in \u001b[0;36mJavaMember.__call__\u001b[0;34m(self, *args)\u001b[0m\n\u001b[1;32m   1314\u001b[0m args_command, temp_args \u001b[38;5;241m=\u001b[39m \u001b[38;5;28mself\u001b[39m\u001b[38;5;241m.\u001b[39m_build_args(\u001b[38;5;241m*\u001b[39margs)\n\u001b[1;32m   1316\u001b[0m command \u001b[38;5;241m=\u001b[39m proto\u001b[38;5;241m.\u001b[39mCALL_COMMAND_NAME \u001b[38;5;241m+\u001b[39m\\\n\u001b[1;32m   1317\u001b[0m     \u001b[38;5;28mself\u001b[39m\u001b[38;5;241m.\u001b[39mcommand_header \u001b[38;5;241m+\u001b[39m\\\n\u001b[1;32m   1318\u001b[0m     args_command \u001b[38;5;241m+\u001b[39m\\\n\u001b[1;32m   1319\u001b[0m     proto\u001b[38;5;241m.\u001b[39mEND_COMMAND_PART\n\u001b[0;32m-> 1321\u001b[0m answer \u001b[38;5;241m=\u001b[39m \u001b[38;5;28;43mself\u001b[39;49m\u001b[38;5;241;43m.\u001b[39;49m\u001b[43mgateway_client\u001b[49m\u001b[38;5;241;43m.\u001b[39;49m\u001b[43msend_command\u001b[49m\u001b[43m(\u001b[49m\u001b[43mcommand\u001b[49m\u001b[43m)\u001b[49m\n\u001b[1;32m   1322\u001b[0m return_value \u001b[38;5;241m=\u001b[39m get_return_value(\n\u001b[1;32m   1323\u001b[0m     answer, \u001b[38;5;28mself\u001b[39m\u001b[38;5;241m.\u001b[39mgateway_client, \u001b[38;5;28mself\u001b[39m\u001b[38;5;241m.\u001b[39mtarget_id, \u001b[38;5;28mself\u001b[39m\u001b[38;5;241m.\u001b[39mname)\n\u001b[1;32m   1325\u001b[0m \u001b[38;5;28;01mfor\u001b[39;00m temp_arg \u001b[38;5;129;01min\u001b[39;00m temp_args:\n",
      "File \u001b[0;32m~/Library/Python/3.9/lib/python/site-packages/py4j/java_gateway.py:1038\u001b[0m, in \u001b[0;36mGatewayClient.send_command\u001b[0;34m(self, command, retry, binary)\u001b[0m\n\u001b[1;32m   1036\u001b[0m connection \u001b[38;5;241m=\u001b[39m \u001b[38;5;28mself\u001b[39m\u001b[38;5;241m.\u001b[39m_get_connection()\n\u001b[1;32m   1037\u001b[0m \u001b[38;5;28;01mtry\u001b[39;00m:\n\u001b[0;32m-> 1038\u001b[0m     response \u001b[38;5;241m=\u001b[39m \u001b[43mconnection\u001b[49m\u001b[38;5;241;43m.\u001b[39;49m\u001b[43msend_command\u001b[49m\u001b[43m(\u001b[49m\u001b[43mcommand\u001b[49m\u001b[43m)\u001b[49m\n\u001b[1;32m   1039\u001b[0m     \u001b[38;5;28;01mif\u001b[39;00m binary:\n\u001b[1;32m   1040\u001b[0m         \u001b[38;5;28;01mreturn\u001b[39;00m response, \u001b[38;5;28mself\u001b[39m\u001b[38;5;241m.\u001b[39m_create_connection_guard(connection)\n",
      "File \u001b[0;32m~/Library/Python/3.9/lib/python/site-packages/py4j/clientserver.py:511\u001b[0m, in \u001b[0;36mClientServerConnection.send_command\u001b[0;34m(self, command)\u001b[0m\n\u001b[1;32m    509\u001b[0m \u001b[38;5;28;01mtry\u001b[39;00m:\n\u001b[1;32m    510\u001b[0m     \u001b[38;5;28;01mwhile\u001b[39;00m \u001b[38;5;28;01mTrue\u001b[39;00m:\n\u001b[0;32m--> 511\u001b[0m         answer \u001b[38;5;241m=\u001b[39m smart_decode(\u001b[38;5;28;43mself\u001b[39;49m\u001b[38;5;241;43m.\u001b[39;49m\u001b[43mstream\u001b[49m\u001b[38;5;241;43m.\u001b[39;49m\u001b[43mreadline\u001b[49m\u001b[43m(\u001b[49m\u001b[43m)\u001b[49m[:\u001b[38;5;241m-\u001b[39m\u001b[38;5;241m1\u001b[39m])\n\u001b[1;32m    512\u001b[0m         logger\u001b[38;5;241m.\u001b[39mdebug(\u001b[38;5;124m\"\u001b[39m\u001b[38;5;124mAnswer received: \u001b[39m\u001b[38;5;132;01m{0}\u001b[39;00m\u001b[38;5;124m\"\u001b[39m\u001b[38;5;241m.\u001b[39mformat(answer))\n\u001b[1;32m    513\u001b[0m         \u001b[38;5;66;03m# Happens when a the other end is dead. There might be an empty\u001b[39;00m\n\u001b[1;32m    514\u001b[0m         \u001b[38;5;66;03m# answer before the socket raises an error.\u001b[39;00m\n",
      "File \u001b[0;32m/Library/Developer/CommandLineTools/Library/Frameworks/Python3.framework/Versions/3.9/lib/python3.9/socket.py:704\u001b[0m, in \u001b[0;36mSocketIO.readinto\u001b[0;34m(self, b)\u001b[0m\n\u001b[1;32m    702\u001b[0m \u001b[38;5;28;01mwhile\u001b[39;00m \u001b[38;5;28;01mTrue\u001b[39;00m:\n\u001b[1;32m    703\u001b[0m     \u001b[38;5;28;01mtry\u001b[39;00m:\n\u001b[0;32m--> 704\u001b[0m         \u001b[38;5;28;01mreturn\u001b[39;00m \u001b[38;5;28;43mself\u001b[39;49m\u001b[38;5;241;43m.\u001b[39;49m\u001b[43m_sock\u001b[49m\u001b[38;5;241;43m.\u001b[39;49m\u001b[43mrecv_into\u001b[49m\u001b[43m(\u001b[49m\u001b[43mb\u001b[49m\u001b[43m)\u001b[49m\n\u001b[1;32m    705\u001b[0m     \u001b[38;5;28;01mexcept\u001b[39;00m timeout:\n\u001b[1;32m    706\u001b[0m         \u001b[38;5;28mself\u001b[39m\u001b[38;5;241m.\u001b[39m_timeout_occurred \u001b[38;5;241m=\u001b[39m \u001b[38;5;28;01mTrue\u001b[39;00m\n",
      "\u001b[0;31mKeyboardInterrupt\u001b[0m: "
     ]
    }
   ],
   "source": [
    "fire_data_df.write.partitionBy('Incident Date', 'neighborhood_district', 'Battalion').parquet('fire_data_final.parquet', mode='overwrite')"
   ]
  },
  {
   "cell_type": "code",
   "execution_count": null,
   "metadata": {},
   "outputs": [],
   "source": []
  }
 ],
 "metadata": {
  "kernelspec": {
   "display_name": "Python 3",
   "language": "python",
   "name": "python3"
  },
  "language_info": {
   "codemirror_mode": {
    "name": "ipython",
    "version": 3
   },
   "file_extension": ".py",
   "mimetype": "text/x-python",
   "name": "python",
   "nbconvert_exporter": "python",
   "pygments_lexer": "ipython3",
   "version": "3.9.6"
  }
 },
 "nbformat": 4,
 "nbformat_minor": 2
}
